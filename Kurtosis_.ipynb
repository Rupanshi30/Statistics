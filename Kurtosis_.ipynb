{
 "cells": [
  {
   "cell_type": "code",
   "execution_count": 1,
   "id": "287c4e5b",
   "metadata": {},
   "outputs": [],
   "source": [
    "import numpy as np\n",
    "from scipy import stats as st\n",
    "import matplotlib.pyplot as plt\n",
    "import scipy.stats as st\n",
    "import seaborn as sns"
   ]
  },
  {
   "cell_type": "markdown",
   "id": "89d297a1",
   "metadata": {},
   "source": [
    "### Measure of symmetry (Skewness): \n",
    "\n",
    "The skewness measures the asymmetry of a data sample."
   ]
  },
  {
   "cell_type": "markdown",
   "id": "77125e56",
   "metadata": {},
   "source": [
    "### Symmetrical Skewness :\n",
    "\n",
    "When data is symmetrically distributed, the left-hand side, and right-hand side, contain the same number of observations. (If the dataset has 90 values, then the left-hand side has 45 observations, and the right-hand side has 45 observations.)\n",
    "\n",
    "\n",
    "#### Skewness is the measure of how much the probability distribution of a random variable deviates from the normal distribution. . \n",
    "\n",
    "Mean : a distribution or dataset is symmetric if it looks the same to the left and right of the data of the centre point.\n",
    "### In Symmetrical : median,mean and mode all are equal and the distribution of data is normal called normal distribution of data .\n",
    "\n",
    "### In Positively skewed : POSITIVE SKEWNESS :\n",
    "\n",
    "\n",
    "\n",
    "- The probability distribution with its tail on the right side\n",
    "- peak is to the left\n",
    "- mean>median>mode(it causes the mean to be greater than the median and eventually move to the right.\n",
    "   Also, the mode occurs at the highest frequency of the distribution which is on the left side of the median.\n",
    "  Therefore, mode < median < mean.)\n",
    "- The value of skewness for a positively skewed distribution is greater than zero. \n",
    "\n",
    "### In Negatively  skewed : \n",
    "\n",
    "- The probability distribution with its tail on the right side.\n",
    "- peak is to the left\n",
    "- mean<median<mode\n",
    "-The value of skewness for a negatively skewed distribution is less than zero.\n",
    "                   \n",
    "\n",
    "\n",
    "\n",
    "\n",
    "\n",
    "Usually, negative skewness values indicate that there’s a dominant tail on the left side.\n",
    "\n",
    "\n",
    "Positive skewness values correspond to a longer or fatter tail on the right side. \n",
    "\n",
    "\n",
    "### If the skewness is close to 0 (for example, between −0.5 and 0.5), then the dataset is considered quite symmetrical."
   ]
  },
  {
   "cell_type": "markdown",
   "id": "4caf35be",
   "metadata": {},
   "source": [
    "### Why skewness is required ?\n",
    "\n",
    "- in the sense of outliers as it effects the model leads to high error rate.\n",
    "- making biased model : \n",
    "\n",
    "we know that the skewness is the measure of asymmetry and its types are distinguished by the side on which the tail of probability distribution lies. But why is knowing the skewness of the data important?\n",
    "\n",
    "First, linear models work on the assumption that the distribution of the independent variable and the target variable are similar. Therefore, knowing about the skewness of data helps us in creating better linear models.\n"
   ]
  },
  {
   "cell_type": "markdown",
   "id": "406453f3",
   "metadata": {},
   "source": [
    "##### Note: The skewness does not tell us about the number of outliers. It only tells us the direction"
   ]
  },
  {
   "cell_type": "markdown",
   "id": "c48beeb0",
   "metadata": {},
   "source": [
    "##### But, why is it nearly perfectly symmetrical and not absolutely symmetrical?\n",
    "\n",
    "That’s because, in reality, no real word data has a perfectly normal distribution. \n",
    "Therefore, even the value of skewness is not exactly zero; it is nearly zero. \n",
    "Although the value of zero is used as a reference for determining the skewness of a distribution."
   ]
  },
  {
   "cell_type": "markdown",
   "id": "50e9291c",
   "metadata": {},
   "source": [
    "### How to check/calculate skewness ?\n",
    "#### - using plot(distplot etc)\n",
    "#### - using  method skew()"
   ]
  },
  {
   "cell_type": "markdown",
   "id": "11a9b664",
   "metadata": {},
   "source": [
    "### What is Kurtosis and how do we capture it?\n",
    "\n",
    "kurtosis : Kurtosis is a numerical method in statistics that measures the sharpness of the peak/taildness in the data distribution.\n",
    "means heavt tail or light tail\n",
    "\n",
    "BASICALLY IT REFERS TO THE DEGREE OF FLATNESS OR PEAKNESS IN THE REGION OF CURVE\n",
    "\n",
    "\n",
    "Think of punching or pulling the normal distribution curve from the top, what impact will it have on the shape of the distribution? "
   ]
  },
  {
   "cell_type": "markdown",
   "id": "ad5c6a75",
   "metadata": {},
   "source": [
    "## Kurtosis is a statistical measure, whether the data is heavy-tailed or light-tailed in a normal distribution.\n",
    "\n",
    "It tells tells the which distribution is prone to outlier.\n",
    "\n",
    "#### Leptokurtic or heavy-tailed distribution (kurtosis more than normal distribution).\n",
    "\n",
    "#### Mesokurtic (kurtosis same as the normal distribution).\n",
    "\n",
    "#### Platykurtic or short-tailed distribution (kurtosis less than normal distribution).\n"
   ]
  },
  {
   "cell_type": "markdown",
   "id": "b2c72090",
   "metadata": {},
   "source": [
    "### Leptokurtic (kurtosis > 3): sharp peak or heavy tail\n",
    "\n",
    "Leptokurtic is having very long and skinny tails or steepness which means there are more chances of outliers. \n",
    "\n",
    "Positive values of kurtosis indicate that distribution is peaked and possesses thick tails(If the coefficient of kurtosis is greater than 3  , then the data distribution is leptokurtic and shows a sharp peak on the graph.)\n",
    "\n",
    "\n",
    "An extreme positive kurtosis indicates a distribution where more of the numbers are located in the tails of the distribution instead of around the mean.\n",
    "\n",
    "\n",
    "### Platykurtic (kurtosis < 3)- flat peak or light tail\n",
    "Platykurtic having a lower tail and stretched around center tails means most of the data points are present in high proximity with mean. \n",
    "\n",
    "A platykurtic distribution is flatter (less peaked) when compared with the normal distribution\n",
    "\n",
    "(If the coefficient of kurtosis is less than 3  , then the data distribution is platykurtic. Being platykurtic doesn’t mean that the graph is flat-topped.)\n",
    "\n",
    "\n",
    "\n",
    "### Mesokurtic (kurtosis = 3)\n",
    "\n",
    "Mesokurtic is the same as the normal distribution, which means kurtosis is near to 0. In Mesokurtic, distributions are moderate in breadth, and curves are a medium peaked height."
   ]
  },
  {
   "cell_type": "markdown",
   "id": "39c4c925",
   "metadata": {},
   "source": [
    "kurtosis gives the output in the range 1 to infinity.\n",
    "- if it is equal to 3 then mesokurtic\n",
    "- if it is > 3 then leptokurtic\n",
    "- if it is <3 then mesokurtic\n",
    "\n",
    "but by default st.kurtosis gives excess kurtosis values\n",
    "as 3-x  , here x is the kurtosis value \n",
    "so this excess kurtosis range lies -2 to infinity\n",
    "\n",
    "- if excess kurotosis > 0 then leptokurtic\n",
    "- if excess kurotosis < 0 then platykurtic\n",
    "- if excess kurotosis = 0 then mesokurtic\n",
    "\n",
    "by default st.kurtosis gives excess value based on fisher=True\n",
    "if fisher = false(means pearson) then it gives real kurtosis \n",
    "\n"
   ]
  },
  {
   "cell_type": "code",
   "execution_count": 11,
   "id": "43849f47",
   "metadata": {},
   "outputs": [
    {
     "name": "stderr",
     "output_type": "stream",
     "text": [
      "C:\\Users\\rupan\\anaconda3\\lib\\site-packages\\seaborn\\distributions.py:2619: FutureWarning: `distplot` is a deprecated function and will be removed in a future version. Please adapt your code to use either `displot` (a figure-level function with similar flexibility) or `histplot` (an axes-level function for histograms).\n",
      "  warnings.warn(msg, FutureWarning)\n"
     ]
    },
    {
     "data": {
      "text/plain": [
       "0.31896566471359966"
      ]
     },
     "execution_count": 11,
     "metadata": {},
     "output_type": "execute_result"
    },
    {
     "data": {
      "image/png": "[encoded data removed]",
      "text/plain": [
       "<Figure size 432x288 with 1 Axes>"
      ]
     },
     "metadata": {
      "needs_background": "light"
     },
     "output_type": "display_data"
    }
   ],
   "source": [
    "## Q- Find the skewness of each species of sepal length and sepal width\n",
    "ir=sns.load_dataset(\"iris\")\n",
    "sns.distplot(ir[\"sepal_width\"])\n",
    "ir[\"sepal_width\"].skew()"
   ]
  },
  {
   "cell_type": "markdown",
   "id": "dd01b1f5",
   "metadata": {},
   "source": [
    "skewness of sepal_width is positive"
   ]
  },
  {
   "cell_type": "code",
   "execution_count": 12,
   "id": "3b6a585c",
   "metadata": {},
   "outputs": [
    {
     "name": "stderr",
     "output_type": "stream",
     "text": [
      "C:\\Users\\rupan\\anaconda3\\lib\\site-packages\\seaborn\\distributions.py:2619: FutureWarning: `distplot` is a deprecated function and will be removed in a future version. Please adapt your code to use either `displot` (a figure-level function with similar flexibility) or `histplot` (an axes-level function for histograms).\n",
      "  warnings.warn(msg, FutureWarning)\n"
     ]
    },
    {
     "data": {
      "text/plain": [
       "0.3149109566369728"
      ]
     },
     "execution_count": 12,
     "metadata": {},
     "output_type": "execute_result"
    },
    {
     "data": {
      "image/png": "[encoded data removed]",
      "text/plain": [
       "<Figure size 432x288 with 1 Axes>"
      ]
     },
     "metadata": {
      "needs_background": "light"
     },
     "output_type": "display_data"
    }
   ],
   "source": [
    "sns.distplot(ir[\"sepal_length\"])\n",
    "ir[\"sepal_length\"].skew()"
   ]
  },
  {
   "cell_type": "code",
   "execution_count": 13,
   "id": "32da4a44",
   "metadata": {},
   "outputs": [
    {
     "name": "stdout",
     "output_type": "stream",
     "text": [
      "total_bill    1.133213\n",
      "tip           1.465451\n",
      "size          1.447882\n",
      "dtype: float64\n",
      "1.4654510370979401\n"
     ]
    },
    {
     "name": "stderr",
     "output_type": "stream",
     "text": [
      "C:\\Users\\rupan\\AppData\\Local\\Temp\\ipykernel_30724\\4172398775.py:4: FutureWarning: Dropping of nuisance columns in DataFrame reductions (with 'numeric_only=None') is deprecated; in a future version this will raise TypeError.  Select only valid columns before calling the reduction.\n",
      "  print(df.skew())\n"
     ]
    }
   ],
   "source": [
    "## skewness of all the columns :\n",
    "import seaborn as sns\n",
    "df=sns.load_dataset(\"tips\")\n",
    "print(df.skew())\n",
    "\n",
    "print(df[\"tip\"].skew())  ## skewness of particulat column tip"
   ]
  },
  {
   "cell_type": "code",
   "execution_count": 14,
   "id": "a2e96849",
   "metadata": {},
   "outputs": [
    {
     "name": "stderr",
     "output_type": "stream",
     "text": [
      "C:\\Users\\rupan\\anaconda3\\lib\\site-packages\\seaborn\\distributions.py:2619: FutureWarning: `distplot` is a deprecated function and will be removed in a future version. Please adapt your code to use either `displot` (a figure-level function with similar flexibility) or `histplot` (an axes-level function for histograms).\n",
      "  warnings.warn(msg, FutureWarning)\n"
     ]
    },
    {
     "data": {
      "image/png": "[encoded data removed]",
      "text/plain": [
       "<Figure size 432x288 with 1 Axes>"
      ]
     },
     "metadata": {
      "needs_background": "light"
     },
     "output_type": "display_data"
    }
   ],
   "source": [
    "### Q- identify whether the tip distribution is symmetrical or not\n",
    "sns.distplot(df[\"tip\"]);"
   ]
  },
  {
   "cell_type": "markdown",
   "id": "2ee9b8cb",
   "metadata": {},
   "source": [
    " all are positively skewed \n",
    " "
   ]
  },
  {
   "cell_type": "code",
   "execution_count": 37,
   "id": "15ce5bef",
   "metadata": {},
   "outputs": [
    {
     "name": "stdout",
     "output_type": "stream",
     "text": [
      "[4.8  4.8  5.41]\n",
      "[3.2 3.2 3.9]\n"
     ]
    }
   ],
   "source": [
    "### find the 25 30 90percentile of sepal length width of each species\n",
    "iris_setosa=ir[ir[\"species\"]==\"setosa\"]\n",
    "print(np.percentile(iris_setosa[\"sepal_length\"],[25,30,90]))\n",
    "print(np.percentile(iris_setosa[\"sepal_width\"],[25,30,90]))"
   ]
  },
  {
   "cell_type": "code",
   "execution_count": 38,
   "id": "3c3b457c",
   "metadata": {},
   "outputs": [
    {
     "name": "stdout",
     "output_type": "stream",
     "text": [
      "[5.6 5.6 6.7]\n",
      "[2.525 2.6   3.11 ]\n"
     ]
    }
   ],
   "source": [
    "iris_versicolor=ir[ir[\"species\"]==\"versicolor\"]\n",
    "print(np.percentile(iris_versicolor[\"sepal_length\"],[25,30,90]))\n",
    "print(np.percentile(iris_versicolor[\"sepal_width\"],[25,30,90]))"
   ]
  },
  {
   "cell_type": "code",
   "execution_count": 39,
   "id": "4e14f487",
   "metadata": {},
   "outputs": [
    {
     "name": "stdout",
     "output_type": "stream",
     "text": [
      "[6.225 6.3   7.61 ]\n",
      "[2.8  2.8  3.31]\n"
     ]
    }
   ],
   "source": [
    "iris_virginica=ir[ir[\"species\"]==\"virginica\"]\n",
    "print(np.percentile(iris_virginica[\"sepal_length\"],[25,30,90]))\n",
    "print(np.percentile(iris_virginica[\"sepal_width\"],[25,30,90]))"
   ]
  },
  {
   "cell_type": "markdown",
   "id": "3f044ea7",
   "metadata": {},
   "source": [
    "### How Do We Transform Skewed Data or any distribution to normal distribution??\n",
    "Since you know how much the skewed data can affect our machine learning model’s predicting capabilities, it is better to transform the skewed data to normally distributed data. Here are some of the ways you can transform your skewed data:\n",
    "\n",
    "Log transformation : right skewed\n",
    "\n",
    "Box cox : most acceptable : if data > 0\n",
    "\n",
    "Power transformation \n",
    "\n",
    "yeo johnson if data=0 this also apply , positive and negative too\n",
    "\n",
    "Reciprocal\n",
    "\n",
    "##### Note: The selection of transformation depends on the statistical characteristics of the data."
   ]
  }
 ],
 "metadata": {
  "kernelspec": {
   "display_name": "Python 3 (ipykernel)",
   "language": "python",
   "name": "python3"
  },
  "language_info": {
   "codemirror_mode": {
    "name": "ipython",
    "version": 3
   },
   "file_extension": ".py",
   "mimetype": "text/x-python",
   "name": "python",
   "nbconvert_exporter": "python",
   "pygments_lexer": "ipython3",
   "version": "3.9.12"
  }
 },
 "nbformat": 4,
 "nbformat_minor": 5
}
