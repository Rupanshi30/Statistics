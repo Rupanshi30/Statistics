{
 "cells": [
  {
   "cell_type": "markdown",
   "id": "e63d4d7d",
   "metadata": {},
   "source": [
    "#### Inferential Stats: To get conclusion about population parameter.\n",
    "\n",
    "##### Two approach:\n",
    "    1. Inductive approach : Specific(sample) to General(Population)\n",
    "        - CLT(Central Limit Theorem)\n",
    "    2. Deductive approach : General to Specific"
   ]
  },
  {
   "cell_type": "markdown",
   "id": "ce96d65d",
   "metadata": {},
   "source": [
    "### CLT\n",
    "- Significance of CLT:\n",
    "        1. It is used take the decision about population parameter based on sample statistics (= works on approximation theory)\n",
    "        2. CLT converts any (population)distribution to Normal Distribution or close to ND.\n",
    "\n",
    "- Purpose of CLT:\n",
    "       1.  We will approximate sample mean to population mean.\n",
    "       2.  std is still known, we will calculate it by drawing samples s = σ/√n, \n",
    "       where s is sample\n",
    "       σ is population standard deviation\n",
    "       n is no of samples\n",
    "       "
   ]
  },
  {
   "cell_type": "markdown",
   "id": "9f264eaf",
   "metadata": {},
   "source": [
    "## CLT :\n",
    "\n",
    "### What is sample and sampling distribution in statistics?\n",
    "\n",
    "The total population of earth is about 7.7 billion and if we are asked to take the mean of the heights of all the people living on earth, then first we have to take the sum of all the heights and divide it by 7.7 billion which requires a great amount of calculation and time.\n",
    " So to ease this process what we do is that we take a sample set of heights from the total population set. Let assume that we took a sample set of 10k heights then its mean will be all the heights divided by 10 thousand which is a lot more easier and productive as it saves a lot of time.\n",
    " \n",
    " \n",
    "Let’s talk about sampling distribution now. Suppose you are given a population distribution and you randomly pick sample of size n from it and you do it all total m times. At last you’ll get m samples, each of size n. Then you calculate the mean of each individual sample and end up with m sample means.\n",
    "Now, the distribution of those sample means is called Sampling distribution of sample means.\n",
    "\n",
    "##sampling distribution basically means  is a probability density function for the sample means of a population.\n"
   ]
  },
  {
   "cell_type": "markdown",
   "id": "47e4f964",
   "metadata": {},
   "source": [
    "### CLT  \n",
    "\n",
    "Suppose we want to study the average age of the whole population of India. As the popullation of India is very high, it will be a tedious job to get everyone’s age data and will take lot of time for the survey.\n",
    "\n",
    "\n",
    "So instead of doing that we can collect samples from different parts of India and try to make an inference. \n",
    "To work with samples we need an approximation theory which can simplify the process of calculating mean age.\n",
    "\n",
    "\n",
    "### Here the Central Limit Theorem comes into the picture. \n",
    "\n",
    "### It is based on such approximation and has a huge significance in the field of statistics. It uses sampling distribution to generalize the samples and use to calculate approx mean, standard daviation and other important parameters.\n",
    "\n",
    "\n",
    "    \n",
    "### What is Central Limit Theorem?\n",
    "\n",
    "The central limit theorem tells us if the mean(μ) and variance(σ²) of the population distribution is finite, then The sampling distribution of the sample means will have a Normal distribution with the mean equal to the population mean and the variance equal to the variance of the population distibution divided by the size of each samples as the sample size tends to reach infinity, irrespective of the type of the population distribution(binomial,skewed,etc)\n",
    "\n",
    "\n",
    "### simply ,  It states that when plotting a sampling distribution of means, the mean of sample means will be equal to the population mean. And the sampling distribution will approach a normal distribution with variance equal to σ/√n where σ is the standard deviation of population and n is the sample size.\n",
    "\n",
    "\n",
    "\n",
    "\n",
    "\n",
    "\n",
    "\n",
    "\n",
    "\n",
    "### Why n ≥ 30 samples?\n",
    "A sample of size 30 is considered large enough to see the effect and power of Central Limit Theorem. The closer the population distribution to normal distribution, fewer samples needed to demonstrate Central Limit Theorem. If the distribution of the population is highly skewed then we need large number of samples to demonstrate and understand Central Limit Theorem.\n",
    "\n",
    "\n",
    "\n",
    "\n",
    
   ]
  },
  {
   "cell_type": "markdown",
   "id": "77068e1c",
   "metadata": {},
   "source": [
    "### Why should we care about Central Limit Theorem?\n",
    "\n",
    "\n",
    "### Why CLT is important?\n",
    "The field of statistics is based on fact that it is highly impossible to collect the data of entire population. Instead of doing that we can gather a subset of data from a population and use the statistics of that sample to draw conclusions about the population.\n",
    "In practice, the unexpected appearance of normal distribution from a population distribution is skewed (even heavily skewed). Many practices in statistics such as hypothesis testing make this assumption that the population on which they work is normally distributed.\n",
    "This assumption basically simplifies matters and we overcome the problem of the data belonging to the population which is not normal.\n",
    "Thus, even we don’t know the shape our distribution where our data comes from but according to Central Limit Theorem we can treat sampling distribution of any population as normal. Ofcourse, for the conclusions of the Central Limit Theorem to hold we need sample size to be large enough.\n",
    "\n",
    "\n",
    "Central Limit Theorem is used a lot in Data Analysis tasks and by using central limit theorem we can get the mean of any type of population distribution as long as the mean and the variance of the population distribution is finite.\n",
    "\n",
    "\n",
    "Suppose, you want to find out the average salary of each human in the world. It is not feasible for you to collect each and every ones salary information in the world, sum it and then divide it by the total number of humans in the world, Right? But by using CLT you can do it in a minute.\n",
    "That is why central limit theorem is powerful and important to know."
   ]
  },
  {
   "cell_type": "markdown",
   "id": "9cdfeb0f",
   "metadata": {},
   "source": [
    "#### Assumptions Behind the Central Limit Theorem\n",
    "It’s important to understand the assumptions behind this theorem:\n",
    "\n",
    "- The data must follow the randomization condition. It must be sampled randomly.\n",
    "\n",
    "- Samples should be independent of each other. One sample should not influence the other samples.\n",
    "\n",
    "- Sample size should be no more than 10% of the population when sampling is done without replacement.\n",
    "\n",
    "- The sample size should be sufficiently large. When the population is skewed or asymmetric, the sample size should be large. If the population is symmetric, then we can draw small samples as well."
   ]
  }
 ],
 "metadata": {
  "kernelspec": {
   "display_name": "Python 3 (ipykernel)",
   "language": "python",
   "name": "python3"
  },
  "language_info": {
   "codemirror_mode": {
    "name": "ipython",
    "version": 3
   },
   "file_extension": ".py",
   "mimetype": "text/x-python",
   "name": "python",
   "nbconvert_exporter": "python",
   "pygments_lexer": "ipython3",
   "version": "3.9.12"
  }
 },
 "nbformat": 4,
 "nbformat_minor": 5
}
