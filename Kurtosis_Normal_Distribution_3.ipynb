{
 "cells": [
  {
   "cell_type": "code",
   "execution_count": 1,
   "id": "287c4e5b",
   "metadata": {},
   "outputs": [],
   "source": [
    "import numpy as np\n",
    "from scipy import stats as st\n",
    "import matplotlib.pyplot as plt\n",
    "import scipy.stats as st\n",
    "import seaborn as sns"
   ]
  },
  {
   "cell_type": "markdown",
   "id": "48640b9d",
   "metadata": {},
   "source": [
    "## 28/12/22"
   ]
  },
  {
   "cell_type": "markdown",
   "id": "11a9b664",
   "metadata": {},
   "source": [
    "## Kurtosis"
   ]
  },
  {
   "cell_type": "markdown",
   "id": "7e205967",
   "metadata": {},
   "source": [
    "- Taking normal distribution"
   ]
  },
  {
   "cell_type": "code",
   "execution_count": 2,
   "id": "ff8cfcec",
   "metadata": {},
   "outputs": [],
   "source": [
    "x=np.random.normal(loc=50,scale=5,size=100000)"
   ]
  },
  {
   "cell_type": "code",
   "execution_count": 3,
   "id": "d2cb5c60",
   "metadata": {},
   "outputs": [
    {
     "name": "stderr",
     "output_type": "stream",
     "text": [
      "C:\\Users\\rupan\\anaconda3\\lib\\site-packages\\seaborn\\distributions.py:2619: FutureWarning: `distplot` is a deprecated function and will be removed in a future version. Please adapt your code to use either `displot` (a figure-level function with similar flexibility) or `histplot` (an axes-level function for histograms).\n",
      "  warnings.warn(msg, FutureWarning)\n"
     ]
    },
    {
     "data": {
      "text/plain": [
       "<AxesSubplot:ylabel='Density'>"
      ]
     },
     "execution_count": 3,
     "metadata": {},
     "output_type": "execute_result"
    },
    {
     "data": {
      "image/png": "[encoded data removed]",
      "text/plain": [
       "<Figure size 432x288 with 1 Axes>"
      ]
     },
     "metadata": {
      "needs_background": "light"
     },
     "output_type": "display_data"
    }
   ],
   "source": [
    "sns.distplot(x)"
   ]
  },
  {
   "cell_type": "code",
   "execution_count": 4,
   "id": "41de9918",
   "metadata": {},
   "outputs": [
    {
     "name": "stderr",
     "output_type": "stream",
     "text": [
      "C:\\Users\\rupan\\anaconda3\\lib\\site-packages\\seaborn\\distributions.py:2619: FutureWarning: `distplot` is a deprecated function and will be removed in a future version. Please adapt your code to use either `displot` (a figure-level function with similar flexibility) or `histplot` (an axes-level function for histograms).\n",
      "  warnings.warn(msg, FutureWarning)\n"
     ]
    },
    {
     "data": {
      "text/plain": [
       "<AxesSubplot:>"
      ]
     },
     "execution_count": 4,
     "metadata": {},
     "output_type": "execute_result"
    },
    {
     "data": {
      "image/png": "[encoded data removed]",
      "text/plain": [
       "<Figure size 432x288 with 1 Axes>"
      ]
     },
     "metadata": {
      "needs_background": "light"
     },
     "output_type": "display_data"
    }
   ],
   "source": [
    "sns.distplot(x,kde=False)"
   ]
  },
  {
   "cell_type": "code",
   "execution_count": 5,
   "id": "32d0d531",
   "metadata": {},
   "outputs": [
    {
     "data": {
      "text/plain": [
       "(array([5.1000e+01, 7.6700e+02, 5.3500e+03, 1.8395e+04, 3.2073e+04,\n",
       "        2.8174e+04, 1.2250e+04, 2.6210e+03, 3.0700e+02, 1.2000e+01]),\n",
       " array([29.42708272, 33.71390545, 38.00072818, 42.28755091, 46.57437364,\n",
       "        50.86119637, 55.14801911, 59.43484184, 63.72166457, 68.0084873 ,\n",
       "        72.29531003]),\n",
       " <BarContainer object of 10 artists>)"
      ]
     },
     "execution_count": 5,
     "metadata": {},
     "output_type": "execute_result"
    },
    {
     "data": {
      "image/png": "[encoded data removed]",
      "text/plain": [
       "<Figure size 432x288 with 1 Axes>"
      ]
     },
     "metadata": {
      "needs_background": "light"
     },
     "output_type": "display_data"
    }
   ],
   "source": [
    "plt.hist(x)"
   ]
  },
  {
   "cell_type": "code",
   "execution_count": 6,
   "id": "197881f2",
   "metadata": {},
   "outputs": [
    {
     "data": {
      "text/plain": [
       "-0.013109794638714867"
      ]
     },
     "execution_count": 6,
     "metadata": {},
     "output_type": "execute_result"
    }
   ],
   "source": [
    "st.kurtosis(x)  ## by default gives excess kurtosis"
   ]
  },
  {
   "cell_type": "markdown",
   "id": "47a0247e",
   "metadata": {},
   "source": [
    "### To see standard answer do Fisher=False"
   ]
  },
  {
   "cell_type": "code",
   "execution_count": 7,
   "id": "e03e1beb",
   "metadata": {},
   "outputs": [
    {
     "data": {
      "text/plain": [
       "2.986890205361285"
      ]
     },
     "execution_count": 7,
     "metadata": {},
     "output_type": "execute_result"
    }
   ],
   "source": [
    "st.kurtosis(x,fisher=False) "
   ]
  },
  {
   "cell_type": "code",
   "execution_count": 8,
   "id": "f5956cd1",
   "metadata": {},
   "outputs": [
    {
     "data": {
      "text/plain": [
       "-0.008840542306270136"
      ]
     },
     "execution_count": 8,
     "metadata": {},
     "output_type": "execute_result"
    }
   ],
   "source": [
    "st.skew(x)"
   ]
  },
  {
   "cell_type": "code",
   "execution_count": 9,
   "id": "63623533",
   "metadata": {},
   "outputs": [
    {
     "data": {
      "text/html": [
       "<div>\n",
       "<style scoped>\n",
       "    .dataframe tbody tr th:only-of-type {\n",
       "        vertical-align: middle;\n",
       "    }\n",
       "\n",
       "    .dataframe tbody tr th {\n",
       "        vertical-align: top;\n",
       "    }\n",
       "\n",
       "    .dataframe thead th {\n",
       "        text-align: right;\n",
       "    }\n",
       "</style>\n",
       "<table border=\"1\" class=\"dataframe\">\n",
       "  <thead>\n",
       "    <tr style=\"text-align: right;\">\n",
       "      <th></th>\n",
       "      <th>total_bill</th>\n",
       "      <th>tip</th>\n",
       "      <th>sex</th>\n",
       "      <th>smoker</th>\n",
       "      <th>day</th>\n",
       "      <th>time</th>\n",
       "      <th>size</th>\n",
       "    </tr>\n",
       "  </thead>\n",
       "  <tbody>\n",
       "    <tr>\n",
       "      <th>0</th>\n",
       "      <td>16.99</td>\n",
       "      <td>1.01</td>\n",
       "      <td>Female</td>\n",
       "      <td>No</td>\n",
       "      <td>Sun</td>\n",
       "      <td>Dinner</td>\n",
       "      <td>2</td>\n",
       "    </tr>\n",
       "    <tr>\n",
       "      <th>1</th>\n",
       "      <td>10.34</td>\n",
       "      <td>1.66</td>\n",
       "      <td>Male</td>\n",
       "      <td>No</td>\n",
       "      <td>Sun</td>\n",
       "      <td>Dinner</td>\n",
       "      <td>3</td>\n",
       "    </tr>\n",
       "    <tr>\n",
       "      <th>2</th>\n",
       "      <td>21.01</td>\n",
       "      <td>3.50</td>\n",
       "      <td>Male</td>\n",
       "      <td>No</td>\n",
       "      <td>Sun</td>\n",
       "      <td>Dinner</td>\n",
       "      <td>3</td>\n",
       "    </tr>\n",
       "    <tr>\n",
       "      <th>3</th>\n",
       "      <td>23.68</td>\n",
       "      <td>3.31</td>\n",
       "      <td>Male</td>\n",
       "      <td>No</td>\n",
       "      <td>Sun</td>\n",
       "      <td>Dinner</td>\n",
       "      <td>2</td>\n",
       "    </tr>\n",
       "    <tr>\n",
       "      <th>4</th>\n",
       "      <td>24.59</td>\n",
       "      <td>3.61</td>\n",
       "      <td>Female</td>\n",
       "      <td>No</td>\n",
       "      <td>Sun</td>\n",
       "      <td>Dinner</td>\n",
       "      <td>4</td>\n",
       "    </tr>\n",
       "  </tbody>\n",
       "</table>\n",
       "</div>"
      ],
      "text/plain": [
       "   total_bill   tip     sex smoker  day    time  size\n",
       "0       16.99  1.01  Female     No  Sun  Dinner     2\n",
       "1       10.34  1.66    Male     No  Sun  Dinner     3\n",
       "2       21.01  3.50    Male     No  Sun  Dinner     3\n",
       "3       23.68  3.31    Male     No  Sun  Dinner     2\n",
       "4       24.59  3.61  Female     No  Sun  Dinner     4"
      ]
     },
     "execution_count": 9,
     "metadata": {},
     "output_type": "execute_result"
    }
   ],
   "source": [
    "df=sns.load_dataset(\"tips\")\n",
    "df.head()"
   ]
  },
  {
   "cell_type": "code",
   "execution_count": 10,
   "id": "9dd7bfd1",
   "metadata": {},
   "outputs": [
    {
     "data": {
      "text/html": [
       "<div>\n",
       "<style scoped>\n",
       "    .dataframe tbody tr th:only-of-type {\n",
       "        vertical-align: middle;\n",
       "    }\n",
       "\n",
       "    .dataframe tbody tr th {\n",
       "        vertical-align: top;\n",
       "    }\n",
       "\n",
       "    .dataframe thead th {\n",
       "        text-align: right;\n",
       "    }\n",
       "</style>\n",
       "<table border=\"1\" class=\"dataframe\">\n",
       "  <thead>\n",
       "    <tr style=\"text-align: right;\">\n",
       "      <th></th>\n",
       "      <th>total_bill</th>\n",
       "      <th>tip</th>\n",
       "      <th>size</th>\n",
       "    </tr>\n",
       "  </thead>\n",
       "  <tbody>\n",
       "    <tr>\n",
       "      <th>count</th>\n",
       "      <td>244.000000</td>\n",
       "      <td>244.000000</td>\n",
       "      <td>244.000000</td>\n",
       "    </tr>\n",
       "    <tr>\n",
       "      <th>mean</th>\n",
       "      <td>19.785943</td>\n",
       "      <td>2.998279</td>\n",
       "      <td>2.569672</td>\n",
       "    </tr>\n",
       "    <tr>\n",
       "      <th>std</th>\n",
       "      <td>8.902412</td>\n",
       "      <td>1.383638</td>\n",
       "      <td>0.951100</td>\n",
       "    </tr>\n",
       "    <tr>\n",
       "      <th>min</th>\n",
       "      <td>3.070000</td>\n",
       "      <td>1.000000</td>\n",
       "      <td>1.000000</td>\n",
       "    </tr>\n",
       "    <tr>\n",
       "      <th>25%</th>\n",
       "      <td>13.347500</td>\n",
       "      <td>2.000000</td>\n",
       "      <td>2.000000</td>\n",
       "    </tr>\n",
       "    <tr>\n",
       "      <th>50%</th>\n",
       "      <td>17.795000</td>\n",
       "      <td>2.900000</td>\n",
       "      <td>2.000000</td>\n",
       "    </tr>\n",
       "    <tr>\n",
       "      <th>75%</th>\n",
       "      <td>24.127500</td>\n",
       "      <td>3.562500</td>\n",
       "      <td>3.000000</td>\n",
       "    </tr>\n",
       "    <tr>\n",
       "      <th>max</th>\n",
       "      <td>50.810000</td>\n",
       "      <td>10.000000</td>\n",
       "      <td>6.000000</td>\n",
       "    </tr>\n",
       "  </tbody>\n",
       "</table>\n",
       "</div>"
      ],
      "text/plain": [
       "       total_bill         tip        size\n",
       "count  244.000000  244.000000  244.000000\n",
       "mean    19.785943    2.998279    2.569672\n",
       "std      8.902412    1.383638    0.951100\n",
       "min      3.070000    1.000000    1.000000\n",
       "25%     13.347500    2.000000    2.000000\n",
       "50%     17.795000    2.900000    2.000000\n",
       "75%     24.127500    3.562500    3.000000\n",
       "max     50.810000   10.000000    6.000000"
      ]
     },
     "execution_count": 10,
     "metadata": {},
     "output_type": "execute_result"
    }
   ],
   "source": [
    "df.describe()"
   ]
  },
  {
   "cell_type": "markdown",
   "id": "2ca406d0",
   "metadata": {},
   "source": [
    "HW : Find the skewness of each species of sepal length and sepal width\n",
    "\n",
    "    identify whether the tip distribution is symmetrical or not\n",
    "    find the 25 30 90percentile of sepal length width of each species\n",
    "    whether the petal length of setosa species lecto,meso,plato kurtic?"
   ]
  },
  {
   "cell_type": "markdown",
   "id": "f809441f",
   "metadata": {},
   "source": [
    "### How to detect the distribution is normally distributed?"
   ]
  },
  {
   "cell_type": "code",
   "execution_count": 11,
   "id": "1ae888ba",
   "metadata": {},
   "outputs": [
    {
     "data": {
      "text/plain": [
       "50.00874939510209"
      ]
     },
     "execution_count": 11,
     "metadata": {},
     "output_type": "execute_result"
    }
   ],
   "source": [
    "np.mean(x)"
   ]
  },
  {
   "cell_type": "code",
   "execution_count": 12,
   "id": "c316c085",
   "metadata": {},
   "outputs": [
    {
     "data": {
      "text/plain": [
       "ModeResult(mode=array([29.42708272]), count=array([1]))"
      ]
     },
     "execution_count": 12,
     "metadata": {},
     "output_type": "execute_result"
    }
   ],
   "source": [
    "st.mode(x)"
   ]
  },
  {
   "cell_type": "code",
   "execution_count": 13,
   "id": "3c871c82",
   "metadata": {},
   "outputs": [
    {
     "data": {
      "text/plain": [
       "50.0295426432026"
      ]
     },
     "execution_count": 13,
     "metadata": {},
     "output_type": "execute_result"
    }
   ],
   "source": [
    " np.median(x)"
   ]
  },
  {
   "cell_type": "code",
   "execution_count": 14,
   "id": "c39cfefc",
   "metadata": {},
   "outputs": [
    {
     "data": {
      "image/png": "[encoded data removed]",
      "text/plain": [
       "<Figure size 432x288 with 1 Axes>"
      ]
     },
     "metadata": {
      "needs_background": "light"
     },
     "output_type": "display_data"
    }
   ],
   "source": [
    "import pylab\n",
    "st.probplot(x,dist=\"norm\",plot=pylab);\n",
    "## If data points are lying on the line than it is normally distributed"
   ]
  },
  {
   "cell_type": "markdown",
   "id": "d16120d6",
   "metadata": {},
   "source": [
    "- If any distribution is not normal then how to transfer it to normal"
   ]
  },
  {
   "cell_type": "markdown",
   "id": "443cd67c",
   "metadata": {},
   "source": [
    "Log transformation : right skewed\n",
    "\n",
    "Box cox : most acceptable : if data > 0\n",
    "\n",
    "Power transformation : \n",
    "\n",
    "yeo johnson if data=0 this also apply , positive and negative too\n",
    "\n",
    "Reciprocal"
   ]
  },
  {
   "cell_type": "code",
   "execution_count": 15,
   "id": "e931f524",
   "metadata": {},
   "outputs": [],
   "source": [
    "df=sns.load_dataset(\"titanic\")"
   ]
  },
  {
   "cell_type": "code",
   "execution_count": 16,
   "id": "a66245ed",
   "metadata": {},
   "outputs": [
    {
     "name": "stderr",
     "output_type": "stream",
     "text": [
      "C:\\Users\\rupan\\anaconda3\\lib\\site-packages\\seaborn\\distributions.py:2619: FutureWarning: `distplot` is a deprecated function and will be removed in a future version. Please adapt your code to use either `displot` (a figure-level function with similar flexibility) or `histplot` (an axes-level function for histograms).\n",
      "  warnings.warn(msg, FutureWarning)\n"
     ]
    },
    {
     "data": {
      "image/png": "[encoded data removed]",
      "text/plain": [
       "<Figure size 432x288 with 1 Axes>"
      ]
     },
     "metadata": {
      "needs_background": "light"
     },
     "output_type": "display_data"
    }
   ],
   "source": [
    "sns.distplot(df[\"fare\"]);  ## right skewed"
   ]
  },
  {
   "cell_type": "code",
   "execution_count": 17,
   "id": "a631cfd5",
   "metadata": {},
   "outputs": [
    {
     "data": {
      "text/plain": [
       "4.787316519674893"
      ]
     },
     "execution_count": 17,
     "metadata": {},
     "output_type": "execute_result"
    }
   ],
   "source": [
    "df[\"fare\"].skew()"
   ]
  },
  {
   "cell_type": "markdown",
   "id": "a13b4bb7",
   "metadata": {},
   "source": [
    "- since fare is right skewed so implement log transform"
   ]
  },
  {
   "cell_type": "code",
   "execution_count": 18,
   "id": "5abf4923",
   "metadata": {},
   "outputs": [],
   "source": [
    "import scipy.stats as st"
   ]
  },
  {
   "cell_type": "code",
   "execution_count": 19,
   "id": "7cfaaba1",
   "metadata": {},
   "outputs": [
    {
     "name": "stderr",
     "output_type": "stream",
     "text": [
      "C:\\Users\\rupan\\anaconda3\\lib\\site-packages\\pandas\\core\\arraylike.py:397: RuntimeWarning: divide by zero encountered in log\n",
      "  result = getattr(ufunc, method)(*inputs, **kwargs)\n"
     ]
    },
    {
     "data": {
      "text/plain": [
       "0      1.981001\n",
       "1      4.266662\n",
       "2      2.070022\n",
       "3      3.972177\n",
       "4      2.085672\n",
       "         ...   \n",
       "886    2.564949\n",
       "887    3.401197\n",
       "888    3.154870\n",
       "889    3.401197\n",
       "890    2.047693\n",
       "Name: fare, Length: 891, dtype: float64"
      ]
     },
     "execution_count": 19,
     "metadata": {},
     "output_type": "execute_result"
    }
   ],
   "source": [
    "np.log(df[\"fare\"])"
   ]
  },
  {
   "cell_type": "code",
   "execution_count": 20,
   "id": "9de066cd",
   "metadata": {},
   "outputs": [
    {
     "data": {
      "image/png": "[encoded data removed]",
      "text/plain": [
       "<Figure size 432x288 with 1 Axes>"
      ]
     },
     "metadata": {
      "needs_background": "light"
     },
     "output_type": "display_data"
    }
   ],
   "source": [
    "st.probplot(df[\"fare\"],dist=\"norm\",plot=pylab);"
   ]
  },
  {
   "cell_type": "markdown",
   "id": "8a67d4e4",
   "metadata": {},
   "source": [
    "- Since fare is right skewed, so implement log transform"
   ]
  },
  {
   "cell_type": "markdown",
   "id": "8c1bf083",
   "metadata": {},
   "source": [
    "- Not normally distributed, we will make it normally distributed"
   ]
  },
  {
   "cell_type": "code",
   "execution_count": 21,
   "id": "da1810d0",
   "metadata": {},
   "outputs": [],
   "source": [
    "from sklearn.preprocessing import FunctionTransformer  ## machine learning library\n",
    "import numpy as np"
   ]
  },
  {
   "cell_type": "code",
   "execution_count": 22,
   "id": "537a0fbc",
   "metadata": {},
   "outputs": [],
   "source": [
    "f=FunctionTransformer(func=np.log1p)"
   ]
  },
  {
   "cell_type": "code",
   "execution_count": 23,
   "id": "b24ae9bb",
   "metadata": {},
   "outputs": [
    {
     "data": {
      "text/plain": [
       "0      2.110213\n",
       "1      4.280593\n",
       "2      2.188856\n",
       "3      3.990834\n",
       "4      2.202765\n",
       "         ...   \n",
       "886    2.639057\n",
       "887    3.433987\n",
       "888    3.196630\n",
       "889    3.433987\n",
       "890    2.169054\n",
       "Name: fare, Length: 891, dtype: float64"
      ]
     },
     "execution_count": 23,
     "metadata": {},
     "output_type": "execute_result"
    }
   ],
   "source": [
    "fare1=f.fit_transform(df[\"fare\"])\n",
    "fare1"
   ]
  },
  {
   "cell_type": "code",
   "execution_count": 24,
   "id": "9a8122bc",
   "metadata": {},
   "outputs": [
    {
     "data": {
      "text/plain": [
       "((array([-3.16416595e+00, -2.89636677e+00, -2.74675222e+00, -2.64114608e+00,\n",
       "         -2.55870259e+00, -2.49067391e+00, -2.43252738e+00, -2.38160005e+00,\n",
       "         -2.33618969e+00, -2.29513992e+00, -2.25762808e+00, -2.22304736e+00,\n",
       "         -2.19093694e+00, -2.16093830e+00, -2.13276686e+00, -2.10619283e+00,\n",
       "         -2.08102787e+00, -2.05711563e+00, -2.03432484e+00, -2.01254418e+00,\n",
       "         -1.99167841e+00, -1.97164537e+00, -1.95237369e+00, -1.93380097e+00,\n",
       "         -1.91587229e+00, -1.89853909e+00, -1.88175821e+00, -1.86549107e+00,\n",
       "         -1.84970311e+00, -1.83436318e+00, -1.81944313e+00, -1.80491744e+00,\n",
       "         -1.79076290e+00, -1.77695830e+00, -1.76348425e+00, -1.75032296e+00,\n",
       "         -1.73745806e+00, -1.72487445e+00, -1.71255819e+00, -1.70049636e+00,\n",
       "         -1.68867698e+00, -1.67708890e+00, -1.66572174e+00, -1.65456583e+00,\n",
       "         -1.64361212e+00, -1.63285214e+00, -1.62227795e+00, -1.61188210e+00,\n",
       "         -1.60165759e+00, -1.59159783e+00, -1.58169661e+00, -1.57194806e+00,\n",
       "         -1.56234666e+00, -1.55288715e+00, -1.54356460e+00, -1.53437430e+00,\n",
       "         -1.52531180e+00, -1.51637287e+00, -1.50755349e+00, -1.49884983e+00,\n",
       "         -1.49025825e+00, -1.48177530e+00, -1.47339765e+00, -1.46512215e+00,\n",
       "         -1.45694579e+00, -1.44886569e+00, -1.44087909e+00, -1.43298336e+00,\n",
       "         -1.42517596e+00, -1.41745449e+00, -1.40981661e+00, -1.40226010e+00,\n",
       "         -1.39478282e+00, -1.38738272e+00, -1.38005783e+00, -1.37280624e+00,\n",
       "         -1.36562613e+00, -1.35851574e+00, -1.35147338e+00, -1.34449742e+00,\n",
       "         -1.33758628e+00, -1.33073844e+00, -1.32395244e+00, -1.31722687e+00,\n",
       "         -1.31056036e+00, -1.30395159e+00, -1.29739929e+00, -1.29090221e+00,\n",
       "         -1.28445918e+00, -1.27806903e+00, -1.27173065e+00, -1.26544295e+00,\n",
       "         -1.25920489e+00, -1.25301544e+00, -1.24687363e+00, -1.24077850e+00,\n",
       "         -1.23472912e+00, -1.22872458e+00, -1.22276403e+00, -1.21684660e+00,\n",
       "         -1.21097148e+00, -1.20513786e+00, -1.19934497e+00, -1.19359205e+00,\n",
       "         -1.18787837e+00, -1.18220320e+00, -1.17656585e+00, -1.17096565e+00,\n",
       "         -1.16540194e+00, -1.15987407e+00, -1.15438141e+00, -1.14892337e+00,\n",
       "         -1.14349933e+00, -1.13810873e+00, -1.13275101e+00, -1.12742560e+00,\n",
       "         -1.12213197e+00, -1.11686961e+00, -1.11163799e+00, -1.10643663e+00,\n",
       "         -1.10126502e+00, -1.09612271e+00, -1.09100921e+00, -1.08592409e+00,\n",
       "         -1.08086689e+00, -1.07583719e+00, -1.07083455e+00, -1.06585857e+00,\n",
       "         -1.06090885e+00, -1.05598498e+00, -1.05108658e+00, -1.04621327e+00,\n",
       "         -1.04136468e+00, -1.03654045e+00, -1.03174023e+00, -1.02696366e+00,\n",
       "         -1.02221041e+00, -1.01748014e+00, -1.01277253e+00, -1.00808726e+00,\n",
       "         -1.00342401e+00, -9.98782481e-01, -9.94162371e-01, -9.89563385e-01,\n",
       "         -9.84985234e-01, -9.80427636e-01, -9.75890312e-01, -9.71372991e-01,\n",
       "         -9.66875406e-01, -9.62397294e-01, -9.57938398e-01, -9.53498468e-01,\n",
       "         -9.49077254e-01, -9.44674515e-01, -9.40290012e-01, -9.35923511e-01,\n",
       "         -9.31574782e-01, -9.27243599e-01, -9.22929741e-01, -9.18632990e-01,\n",
       "         -9.14353133e-01, -9.10089959e-01, -9.05843261e-01, -9.01612837e-01,\n",
       "         -8.97398488e-01, -8.93200018e-01, -8.89017233e-01, -8.84849944e-01,\n",
       "         -8.80697966e-01, -8.76561115e-01, -8.72439211e-01, -8.68332076e-01,\n",
       "         -8.64239537e-01, -8.60161422e-01, -8.56097563e-01, -8.52047793e-01,\n",
       "         -8.48011949e-01, -8.43989871e-01, -8.39981400e-01, -8.35986380e-01,\n",
       "         -8.32004658e-01, -8.28036084e-01, -8.24080508e-01, -8.20137785e-01,\n",
       "         -8.16207769e-01, -8.12290320e-01, -8.08385297e-01, -8.04492562e-01,\n",
       "         -8.00611980e-01, -7.96743417e-01, -7.92886742e-01, -7.89041824e-01,\n",
       "         -7.85208535e-01, -7.81386750e-01, -7.77576344e-01, -7.73777194e-01,\n",
       "         -7.69989180e-01, -7.66212182e-01, -7.62446084e-01, -7.58690769e-01,\n",
       "         -7.54946122e-01, -7.51212033e-01, -7.47488388e-01, -7.43775079e-01,\n",
       "         -7.40071997e-01, -7.36379036e-01, -7.32696091e-01, -7.29023057e-01,\n",
       "         -7.25359833e-01, -7.21706316e-01, -7.18062408e-01, -7.14428009e-01,\n",
       "         -7.10803023e-01, -7.07187353e-01, -7.03580904e-01, -6.99983584e-01,\n",
       "         -6.96395299e-01, -6.92815959e-01, -6.89245472e-01, -6.85683751e-01,\n",
       "         -6.82130707e-01, -6.78586254e-01, -6.75050305e-01, -6.71522777e-01,\n",
       "         -6.68003585e-01, -6.64492646e-01, -6.60989880e-01, -6.57495204e-01,\n",
       "         -6.54008541e-01, -6.50529809e-01, -6.47058933e-01, -6.43595834e-01,\n",
       "         -6.40140437e-01, -6.36692665e-01, -6.33252446e-01, -6.29819705e-01,\n",
       "         -6.26394370e-01, -6.22976369e-01, -6.19565630e-01, -6.16162083e-01,\n",
       "         -6.12765660e-01, -6.09376290e-01, -6.05993906e-01, -6.02618441e-01,\n",
       "         -5.99249828e-01, -5.95888002e-01, -5.92532897e-01, -5.89184448e-01,\n",
       "         -5.85842593e-01, -5.82507267e-01, -5.79178409e-01, -5.75855957e-01,\n",
       "         -5.72539849e-01, -5.69230025e-01, -5.65926425e-01, -5.62628991e-01,\n",
       "         -5.59337662e-01, -5.56052382e-01, -5.52773092e-01, -5.49499736e-01,\n",
       "         -5.46232257e-01, -5.42970600e-01, -5.39714708e-01, -5.36464529e-01,\n",
       "         -5.33220006e-01, -5.29981087e-01, -5.26747718e-01, -5.23519846e-01,\n",
       "         -5.20297421e-01, -5.17080388e-01, -5.13868699e-01, -5.10662301e-01,\n",
       "         -5.07461145e-01, -5.04265181e-01, -5.01074359e-01, -4.97888630e-01,\n",
       "         -4.94707946e-01, -4.91532260e-01, -4.88361523e-01, -4.85195688e-01,\n",
       "         -4.82034708e-01, -4.78878538e-01, -4.75727130e-01, -4.72580440e-01,\n",
       "         -4.69438423e-01, -4.66301033e-01, -4.63168227e-01, -4.60039959e-01,\n",
       "         -4.56916187e-01, -4.53796868e-01, -4.50681957e-01, -4.47571414e-01,\n",
       "         -4.44465194e-01, -4.41363258e-01, -4.38265562e-01, -4.35172066e-01,\n",
       "         -4.32082729e-01, -4.28997511e-01, -4.25916370e-01, -4.22839267e-01,\n",
       "         -4.19766163e-01, -4.16697019e-01, -4.13631794e-01, -4.10570451e-01,\n",
       "         -4.07512950e-01, -4.04459255e-01, -4.01409326e-01, -3.98363127e-01,\n",
       "         -3.95320620e-01, -3.92281768e-01, -3.89246534e-01, -3.86214882e-01,\n",
       "         -3.83186776e-01, -3.80162179e-01, -3.77141055e-01, -3.74123371e-01,\n",
       "         -3.71109089e-01, -3.68098175e-01, -3.65090595e-01, -3.62086314e-01,\n",
       "         -3.59085297e-01, -3.56087510e-01, -3.53092920e-01, -3.50101494e-01,\n",
       "         -3.47113197e-01, -3.44127996e-01, -3.41145859e-01, -3.38166753e-01,\n",
       "         -3.35190645e-01, -3.32217503e-01, -3.29247294e-01, -3.26279988e-01,\n",
       "         -3.23315551e-01, -3.20353953e-01, -3.17395163e-01, -3.14439148e-01,\n",
       "         -3.11485878e-01, -3.08535323e-01, -3.05587451e-01, -3.02642232e-01,\n",
       "         -2.99699637e-01, -2.96759634e-01, -2.93822194e-01, -2.90887286e-01,\n",
       "         -2.87954883e-01, -2.85024953e-01, -2.82097468e-01, -2.79172399e-01,\n",
       "         -2.76249717e-01, -2.73329392e-01, -2.70411397e-01, -2.67495702e-01,\n",
       "         -2.64582279e-01, -2.61671101e-01, -2.58762138e-01, -2.55855364e-01,\n",
       "         -2.52950750e-01, -2.50048268e-01, -2.47147891e-01, -2.44249592e-01,\n",
       "         -2.41353343e-01, -2.38459117e-01, -2.35566887e-01, -2.32676627e-01,\n",
       "         -2.29788309e-01, -2.26901906e-01, -2.24017393e-01, -2.21134743e-01,\n",
       "         -2.18253928e-01, -2.15374924e-01, -2.12497705e-01, -2.09622243e-01,\n",
       "         -2.06748513e-01, -2.03876490e-01, -2.01006147e-01, -1.98137460e-01,\n",
       "         -1.95270402e-01, -1.92404948e-01, -1.89541074e-01, -1.86678753e-01,\n",
       "         -1.83817960e-01, -1.80958672e-01, -1.78100862e-01, -1.75244505e-01,\n",
       "         -1.72389578e-01, -1.69536055e-01, -1.66683912e-01, -1.63833125e-01,\n",
       "         -1.60983668e-01, -1.58135518e-01, -1.55288649e-01, -1.52443039e-01,\n",
       "         -1.49598663e-01, -1.46755497e-01, -1.43913516e-01, -1.41072697e-01,\n",
       "         -1.38233017e-01, -1.35394450e-01, -1.32556974e-01, -1.29720565e-01,\n",
       "         -1.26885199e-01, -1.24050853e-01, -1.21217504e-01, -1.18385126e-01,\n",
       "         -1.15553699e-01, -1.12723197e-01, -1.09893598e-01, -1.07064879e-01,\n",
       "         -1.04237016e-01, -1.01409987e-01, -9.85837679e-02, -9.57583359e-02,\n",
       "         -9.29336682e-02, -9.01097418e-02, -8.72865338e-02, -8.44640214e-02,\n",
       "         -8.16421817e-02, -7.88209919e-02, -7.60004293e-02, -7.31804713e-02,\n",
       "         -7.03610950e-02, -6.75422780e-02, -6.47239975e-02, -6.19062310e-02,\n",
       "         -5.90889559e-02, -5.62721498e-02, -5.34557901e-02, -5.06398543e-02,\n",
       "         -4.78243200e-02, -4.50091648e-02, -4.21943662e-02, -3.93799019e-02,\n",
       "         -3.65657495e-02, -3.37518867e-02, -3.09382910e-02, -2.81249403e-02,\n",
       "         -2.53118122e-02, -2.24988843e-02, -1.96861345e-02, -1.68735404e-02,\n",
       "         -1.40610798e-02, -1.12487304e-02, -8.43646994e-03, -5.62427623e-03,\n",
       "         -2.81212699e-03,  0.00000000e+00,  2.81212699e-03,  5.62427623e-03,\n",
       "          8.43646994e-03,  1.12487304e-02,  1.40610798e-02,  1.68735404e-02,\n",
       "          1.96861345e-02,  2.24988843e-02,  2.53118122e-02,  2.81249403e-02,\n",
       "          3.09382910e-02,  3.37518867e-02,  3.65657495e-02,  3.93799019e-02,\n",
       "          4.21943662e-02,  4.50091648e-02,  4.78243200e-02,  5.06398543e-02,\n",
       "          5.34557901e-02,  5.62721498e-02,  5.90889559e-02,  6.19062310e-02,\n",
       "          6.47239975e-02,  6.75422780e-02,  7.03610950e-02,  7.31804713e-02,\n",
       "          7.60004293e-02,  7.88209919e-02,  8.16421817e-02,  8.44640214e-02,\n",
       "          8.72865338e-02,  9.01097418e-02,  9.29336682e-02,  9.57583359e-02,\n",
       "          9.85837679e-02,  1.01409987e-01,  1.04237016e-01,  1.07064879e-01,\n",
       "          1.09893598e-01,  1.12723197e-01,  1.15553699e-01,  1.18385126e-01,\n",
       "          1.21217504e-01,  1.24050853e-01,  1.26885199e-01,  1.29720565e-01,\n",
       "          1.32556974e-01,  1.35394450e-01,  1.38233017e-01,  1.41072697e-01,\n",
       "          1.43913516e-01,  1.46755497e-01,  1.49598663e-01,  1.52443039e-01,\n",
       "          1.55288649e-01,  1.58135518e-01,  1.60983668e-01,  1.63833125e-01,\n",
       "          1.66683912e-01,  1.69536055e-01,  1.72389578e-01,  1.75244505e-01,\n",
       "          1.78100862e-01,  1.80958672e-01,  1.83817960e-01,  1.86678753e-01,\n",
       "          1.89541074e-01,  1.92404948e-01,  1.95270402e-01,  1.98137460e-01,\n",
       "          2.01006147e-01,  2.03876490e-01,  2.06748513e-01,  2.09622243e-01,\n",
       "          2.12497705e-01,  2.15374924e-01,  2.18253928e-01,  2.21134743e-01,\n",
       "          2.24017393e-01,  2.26901906e-01,  2.29788309e-01,  2.32676627e-01,\n",
       "          2.35566887e-01,  2.38459117e-01,  2.41353343e-01,  2.44249592e-01,\n",
       "          2.47147891e-01,  2.50048268e-01,  2.52950750e-01,  2.55855364e-01,\n",
       "          2.58762138e-01,  2.61671101e-01,  2.64582279e-01,  2.67495702e-01,\n",
       "          2.70411397e-01,  2.73329392e-01,  2.76249717e-01,  2.79172399e-01,\n",
       "          2.82097468e-01,  2.85024953e-01,  2.87954883e-01,  2.90887286e-01,\n",
       "          2.93822194e-01,  2.96759634e-01,  2.99699637e-01,  3.02642232e-01,\n",
       "          3.05587451e-01,  3.08535323e-01,  3.11485878e-01,  3.14439148e-01,\n",
       "          3.17395163e-01,  3.20353953e-01,  3.23315551e-01,  3.26279988e-01,\n",
       "          3.29247294e-01,  3.32217503e-01,  3.35190645e-01,  3.38166753e-01,\n",
       "          3.41145859e-01,  3.44127996e-01,  3.47113197e-01,  3.50101494e-01,\n",
       "          3.53092920e-01,  3.56087510e-01,  3.59085297e-01,  3.62086314e-01,\n",
       "          3.65090595e-01,  3.68098175e-01,  3.71109089e-01,  3.74123371e-01,\n",
       "          3.77141055e-01,  3.80162179e-01,  3.83186776e-01,  3.86214882e-01,\n",
       "          3.89246534e-01,  3.92281768e-01,  3.95320620e-01,  3.98363127e-01,\n",
       "          4.01409326e-01,  4.04459255e-01,  4.07512950e-01,  4.10570451e-01,\n",
       "          4.13631794e-01,  4.16697019e-01,  4.19766163e-01,  4.22839267e-01,\n",
       "          4.25916370e-01,  4.28997511e-01,  4.32082729e-01,  4.35172066e-01,\n",
       "          4.38265562e-01,  4.41363258e-01,  4.44465194e-01,  4.47571414e-01,\n",
       "          4.50681957e-01,  4.53796868e-01,  4.56916187e-01,  4.60039959e-01,\n",
       "          4.63168227e-01,  4.66301033e-01,  4.69438423e-01,  4.72580440e-01,\n",
       "          4.75727130e-01,  4.78878538e-01,  4.82034708e-01,  4.85195688e-01,\n",
       "          4.88361523e-01,  4.91532260e-01,  4.94707946e-01,  4.97888630e-01,\n",
       "          5.01074359e-01,  5.04265181e-01,  5.07461145e-01,  5.10662301e-01,\n",
       "          5.13868699e-01,  5.17080388e-01,  5.20297421e-01,  5.23519846e-01,\n",
       "          5.26747718e-01,  5.29981087e-01,  5.33220006e-01,  5.36464529e-01,\n",
       "          5.39714708e-01,  5.42970600e-01,  5.46232257e-01,  5.49499736e-01,\n",
       "          5.52773092e-01,  5.56052382e-01,  5.59337662e-01,  5.62628991e-01,\n",
       "          5.65926425e-01,  5.69230025e-01,  5.72539849e-01,  5.75855957e-01,\n",
       "          5.79178409e-01,  5.82507267e-01,  5.85842593e-01,  5.89184448e-01,\n",
       "          5.92532897e-01,  5.95888002e-01,  5.99249828e-01,  6.02618441e-01,\n",
       "          6.05993906e-01,  6.09376290e-01,  6.12765660e-01,  6.16162083e-01,\n",
       "          6.19565630e-01,  6.22976369e-01,  6.26394370e-01,  6.29819705e-01,\n",
       "          6.33252446e-01,  6.36692665e-01,  6.40140437e-01,  6.43595834e-01,\n",
       "          6.47058933e-01,  6.50529809e-01,  6.54008541e-01,  6.57495204e-01,\n",
       "          6.60989880e-01,  6.64492646e-01,  6.68003585e-01,  6.71522777e-01,\n",
       "          6.75050305e-01,  6.78586254e-01,  6.82130707e-01,  6.85683751e-01,\n",
       "          6.89245472e-01,  6.92815959e-01,  6.96395299e-01,  6.99983584e-01,\n",
       "          7.03580904e-01,  7.07187353e-01,  7.10803023e-01,  7.14428009e-01,\n",
       "          7.18062408e-01,  7.21706316e-01,  7.25359833e-01,  7.29023057e-01,\n",
       "          7.32696091e-01,  7.36379036e-01,  7.40071997e-01,  7.43775079e-01,\n",
       "          7.47488388e-01,  7.51212033e-01,  7.54946122e-01,  7.58690769e-01,\n",
       "          7.62446084e-01,  7.66212182e-01,  7.69989180e-01,  7.73777194e-01,\n",
       "          7.77576344e-01,  7.81386750e-01,  7.85208535e-01,  7.89041824e-01,\n",
       "          7.92886742e-01,  7.96743417e-01,  8.00611980e-01,  8.04492562e-01,\n",
       "          8.08385297e-01,  8.12290320e-01,  8.16207769e-01,  8.20137785e-01,\n",
       "          8.24080508e-01,  8.28036084e-01,  8.32004658e-01,  8.35986380e-01,\n",
       "          8.39981400e-01,  8.43989871e-01,  8.48011949e-01,  8.52047793e-01,\n",
       "          8.56097563e-01,  8.60161422e-01,  8.64239537e-01,  8.68332076e-01,\n",
       "          8.72439211e-01,  8.76561115e-01,  8.80697966e-01,  8.84849944e-01,\n",
       "          8.89017233e-01,  8.93200018e-01,  8.97398488e-01,  9.01612837e-01,\n",
       "          9.05843261e-01,  9.10089959e-01,  9.14353133e-01,  9.18632990e-01,\n",
       "          9.22929741e-01,  9.27243599e-01,  9.31574782e-01,  9.35923511e-01,\n",
       "          9.40290012e-01,  9.44674515e-01,  9.49077254e-01,  9.53498468e-01,\n",
       "          9.57938398e-01,  9.62397294e-01,  9.66875406e-01,  9.71372991e-01,\n",
       "          9.75890312e-01,  9.80427636e-01,  9.84985234e-01,  9.89563385e-01,\n",
       "          9.94162371e-01,  9.98782481e-01,  1.00342401e+00,  1.00808726e+00,\n",
       "          1.01277253e+00,  1.01748014e+00,  1.02221041e+00,  1.02696366e+00,\n",
       "          1.03174023e+00,  1.03654045e+00,  1.04136468e+00,  1.04621327e+00,\n",
       "          1.05108658e+00,  1.05598498e+00,  1.06090885e+00,  1.06585857e+00,\n",
       "          1.07083455e+00,  1.07583719e+00,  1.08086689e+00,  1.08592409e+00,\n",
       "          1.09100921e+00,  1.09612271e+00,  1.10126502e+00,  1.10643663e+00,\n",
       "          1.11163799e+00,  1.11686961e+00,  1.12213197e+00,  1.12742560e+00,\n",
       "          1.13275101e+00,  1.13810873e+00,  1.14349933e+00,  1.14892337e+00,\n",
       "          1.15438141e+00,  1.15987407e+00,  1.16540194e+00,  1.17096565e+00,\n",
       "          1.17656585e+00,  1.18220320e+00,  1.18787837e+00,  1.19359205e+00,\n",
       "          1.19934497e+00,  1.20513786e+00,  1.21097148e+00,  1.21684660e+00,\n",
       "          1.22276403e+00,  1.22872458e+00,  1.23472912e+00,  1.24077850e+00,\n",
       "          1.24687363e+00,  1.25301544e+00,  1.25920489e+00,  1.26544295e+00,\n",
       "          1.27173065e+00,  1.27806903e+00,  1.28445918e+00,  1.29090221e+00,\n",
       "          1.29739929e+00,  1.30395159e+00,  1.31056036e+00,  1.31722687e+00,\n",
       "          1.32395244e+00,  1.33073844e+00,  1.33758628e+00,  1.34449742e+00,\n",
       "          1.35147338e+00,  1.35851574e+00,  1.36562613e+00,  1.37280624e+00,\n",
       "          1.38005783e+00,  1.38738272e+00,  1.39478282e+00,  1.40226010e+00,\n",
       "          1.40981661e+00,  1.41745449e+00,  1.42517596e+00,  1.43298336e+00,\n",
       "          1.44087909e+00,  1.44886569e+00,  1.45694579e+00,  1.46512215e+00,\n",
       "          1.47339765e+00,  1.48177530e+00,  1.49025825e+00,  1.49884983e+00,\n",
       "          1.50755349e+00,  1.51637287e+00,  1.52531180e+00,  1.53437430e+00,\n",
       "          1.54356460e+00,  1.55288715e+00,  1.56234666e+00,  1.57194806e+00,\n",
       "          1.58169661e+00,  1.59159783e+00,  1.60165759e+00,  1.61188210e+00,\n",
       "          1.62227795e+00,  1.63285214e+00,  1.64361212e+00,  1.65456583e+00,\n",
       "          1.66572174e+00,  1.67708890e+00,  1.68867698e+00,  1.70049636e+00,\n",
       "          1.71255819e+00,  1.72487445e+00,  1.73745806e+00,  1.75032296e+00,\n",
       "          1.76348425e+00,  1.77695830e+00,  1.79076290e+00,  1.80491744e+00,\n",
       "          1.81944313e+00,  1.83436318e+00,  1.84970311e+00,  1.86549107e+00,\n",
       "          1.88175821e+00,  1.89853909e+00,  1.91587229e+00,  1.93380097e+00,\n",
       "          1.95237369e+00,  1.97164537e+00,  1.99167841e+00,  2.01254418e+00,\n",
       "          2.03432484e+00,  2.05711563e+00,  2.08102787e+00,  2.10619283e+00,\n",
       "          2.13276686e+00,  2.16093830e+00,  2.19093694e+00,  2.22304736e+00,\n",
       "          2.25762808e+00,  2.29513992e+00,  2.33618969e+00,  2.38160005e+00,\n",
       "          2.43252738e+00,  2.49067391e+00,  2.55870259e+00,  2.64114608e+00,\n",
       "          2.74675222e+00,  2.89636677e+00,  3.16416595e+00]),\n",
       "  array([0.        , 0.        , 0.        , 0.        , 0.        ,\n",
       "         0.        , 0.        , 0.        , 0.        , 0.        ,\n",
       "         0.        , 0.        , 0.        , 0.        , 0.        ,\n",
       "         1.61193479, 1.79175947, 1.97927584, 2.00653477, 2.00821403,\n",
       "         2.01434286, 2.01434286, 2.04769284, 2.04769284, 2.0615703 ,\n",
       "         2.07317193, 2.07631165, 2.07631165, 2.08515022, 2.08567209,\n",
       "         2.08567209, 2.08567209, 2.08567209, 2.08567209, 2.08567209,\n",
       "         2.08567209, 2.08619369, 2.08619369, 2.09494573, 2.09494573,\n",
       "         2.09494573, 2.09494573, 2.096999  , 2.1071783 , 2.1071783 ,\n",
       "         2.1071783 , 2.1071783 , 2.1071783 , 2.1071783 , 2.1071783 ,\n",
       "         2.1071783 , 2.1071783 , 2.1071783 , 2.1071783 , 2.1071783 ,\n",
       "         2.1076888 , 2.1076888 , 2.1076888 , 2.1076888 , 2.1076888 ,\n",
       "         2.1076888 , 2.1076888 , 2.1076888 , 2.1076888 , 2.1076888 ,\n",
       "         2.1076888 , 2.1076888 , 2.1076888 , 2.1076888 , 2.1076888 ,\n",
       "         2.1102132 , 2.1102132 , 2.1102132 , 2.1102132 , 2.1102132 ,\n",
       "         2.1102132 , 2.1102132 , 2.1102132 , 2.1102132 , 2.1102132 ,\n",
       "         2.1102132 , 2.1102132 , 2.1102132 , 2.11776041, 2.13957192,\n",
       "         2.13957192, 2.13957192, 2.14251023, 2.14593128, 2.14593128,\n",
       "         2.14593128, 2.14593128, 2.1551518 , 2.15755932, 2.15755932,\n",
       "         2.15755932, 2.15755932, 2.16619247, 2.16667373, 2.16714331,\n",
       "         2.16714331, 2.16714331, 2.16714331, 2.16762411, 2.16762411,\n",
       "         2.16810468, 2.1690537 , 2.1690537 , 2.1690537 , 2.1690537 ,\n",
       "         2.1690537 , 2.1690537 , 2.1690537 , 2.1690537 , 2.1690537 ,\n",
       "         2.1690537 , 2.1690537 , 2.1690537 , 2.1690537 , 2.1690537 ,\n",
       "         2.1690537 , 2.1690537 , 2.1690537 , 2.1690537 , 2.1690537 ,\n",
       "         2.1690537 , 2.1690537 , 2.1690537 , 2.1690537 , 2.1690537 ,\n",
       "         2.1690537 , 2.1690537 , 2.1690537 , 2.1690537 , 2.1690537 ,\n",
       "         2.1690537 , 2.1690537 , 2.1690537 , 2.1690537 , 2.1690537 ,\n",
       "         2.17190677, 2.17190677, 2.17190677, 2.17190677, 2.17190677,\n",
       "         2.17190677, 2.17190677, 2.17190677, 2.17190677, 2.17190677,\n",
       "         2.17190677, 2.17190677, 2.17190677, 2.17190677, 2.17190677,\n",
       "         2.17190677, 2.17333026, 2.17427433, 2.17427433, 2.17427433,\n",
       "         2.17427433, 2.17427433, 2.17427433, 2.17475172, 2.17806441,\n",
       "         2.17806441, 2.18089192, 2.18089192, 2.18089192, 2.18089192,\n",
       "         2.18089192, 2.18089192, 2.18089192, 2.18089192, 2.18089192,\n",
       "         2.18089192, 2.18089192, 2.18089192, 2.18089192, 2.18323834,\n",
       "         2.18371146, 2.18371146, 2.18371146, 2.18371146, 2.1846458 ,\n",
       "         2.18557926, 2.18557926, 2.18557926, 2.18557926, 2.18557926,\n",
       "         2.18557926, 2.18557926, 2.18557926, 2.18557926, 2.18557926,\n",
       "         2.18557926, 2.18557926, 2.18557926, 2.18557926, 2.18557926,\n",
       "         2.18557926, 2.18557926, 2.18557926, 2.18557926, 2.18557926,\n",
       "         2.18557926, 2.18557926, 2.18557926, 2.18557926, 2.18557926,\n",
       "         2.18557926, 2.18557926, 2.18557926, 2.18557926, 2.18557926,\n",
       "         2.18557926, 2.18557926, 2.18557926, 2.18557926, 2.18557926,\n",
       "         2.18557926, 2.18557926, 2.18557926, 2.18885633, 2.18885633,\n",
       "         2.18885633, 2.18885633, 2.18885633, 2.18885633, 2.18885633,\n",
       "         2.18885633, 2.18885633, 2.18885633, 2.18885633, 2.18885633,\n",
       "         2.18885633, 2.18885633, 2.18885633, 2.18885633, 2.18885633,\n",
       "         2.18885633, 2.20046377, 2.20276476, 2.20276476, 2.20276476,\n",
       "         2.20276476, 2.20276476, 2.20276476, 2.20276476, 2.20276476,\n",
       "         2.20276476, 2.20276476, 2.20276476, 2.20276476, 2.20276476,\n",
       "         2.20276476, 2.20276476, 2.20276476, 2.20276476, 2.20276476,\n",
       "         2.20276476, 2.20276476, 2.20276476, 2.20276476, 2.20276476,\n",
       "         2.20276476, 2.20276476, 2.20276476, 2.20276476, 2.20276476,\n",
       "         2.20276476, 2.20276476, 2.20276476, 2.20276476, 2.20276476,\n",
       "         2.20276476, 2.20276476, 2.20276476, 2.20276476, 2.20276476,\n",
       "         2.20276476, 2.20276476, 2.20276476, 2.20276476, 2.20276476,\n",
       "         2.2096471 , 2.21238683, 2.21466057, 2.2300144 , 2.23671235,\n",
       "         2.2411564 , 2.24424598, 2.24689266, 2.25304815, 2.26739305,\n",
       "         2.26825241, 2.26825241, 2.26825241, 2.26825241, 2.26825241,\n",
       "         2.26825241, 2.26825241, 2.26825241, 2.26825241, 2.26825241,\n",
       "         2.26825241, 2.26825241, 2.26825241, 2.27040275, 2.27341372,\n",
       "         2.28747146, 2.30258509, 2.30258509, 2.32402364, 2.3248357 ,\n",
       "         2.3248357 , 2.33698652, 2.33698652, 2.34899147, 2.34978351,\n",
       "         2.35137526, 2.35137526, 2.35137526, 2.35137526, 2.35137526,\n",
       "         2.35137526, 2.35137526, 2.35137526, 2.35137526, 2.35967406,\n",
       "         2.35967406, 2.38185827, 2.38185827, 2.38301234, 2.38339981,\n",
       "         2.38377791, 2.41330323, 2.43908084, 2.43908084, 2.44234704,\n",
       "         2.44234704, 2.44234704, 2.44234704, 2.44234704, 2.44234704,\n",
       "         2.44234704, 2.44234704, 2.44234704, 2.44234704, 2.44234704,\n",
       "         2.44234704, 2.44234704, 2.44234704, 2.44234704, 2.44234704,\n",
       "         2.44234704, 2.44234704, 2.44234704, 2.44234704, 2.44234704,\n",
       "         2.44234704, 2.44234704, 2.44234704, 2.44379816, 2.49595374,\n",
       "         2.49595374, 2.49595374, 2.50484816, 2.50484816, 2.52572864,\n",
       "         2.52572864, 2.52572864, 2.52572864, 2.56494936, 2.58588257,\n",
       "         2.58682374, 2.59151638, 2.59151638, 2.59151638, 2.60083612,\n",
       "         2.60083612, 2.60083612, 2.60083612, 2.60453982, 2.61373952,\n",
       "         2.63008866, 2.63905733, 2.63905733, 2.63905733, 2.63905733,\n",
       "         2.63905733, 2.63905733, 2.63905733, 2.63905733, 2.63905733,\n",
       "         2.63905733, 2.63905733, 2.63905733, 2.63905733, 2.63905733,\n",
       "         2.63905733, 2.63905733, 2.63905733, 2.63905733, 2.63905733,\n",
       "         2.63905733, 2.63905733, 2.63905733, 2.63905733, 2.63905733,\n",
       "         2.63905733, 2.63905733, 2.63905733, 2.63905733, 2.63905733,\n",
       "         2.63905733, 2.63905733, 2.63905733, 2.63905733, 2.63905733,\n",
       "         2.63905733, 2.63905733, 2.63905733, 2.63905733, 2.63905733,\n",
       "         2.63905733, 2.63905733, 2.63905733, 2.66838726, 2.67414865,\n",
       "         2.67414865, 2.67414865, 2.67414865, 2.69406621, 2.69855863,\n",
       "         2.69884126, 2.7080502 , 2.71524426, 2.73436751, 2.73436751,\n",
       "         2.73788081, 2.73788081, 2.73788081, 2.73788081, 2.73788081,\n",
       "         2.73788081, 2.73788081, 2.73814608, 2.73814608, 2.73814608,\n",
       "         2.74084002, 2.74084002, 2.74084002, 2.74084002, 2.74084002,\n",
       "         2.74084002, 2.74084002, 2.77258872, 2.77544713, 2.77570885,\n",
       "         2.77881927, 2.78783441, 2.78783441, 2.78783441, 2.78783441,\n",
       "         2.78783441, 2.80336038, 2.80336038, 2.80336038, 2.80336038,\n",
       "         2.80336038, 2.80336038, 2.80336038, 2.80336038, 2.8063861 ,\n",
       "         2.81790261, 2.81790261, 2.81839826, 2.82435066, 2.82435066,\n",
       "         2.82435066, 2.82435066, 2.82731362, 2.82731362, 2.83321334,\n",
       "         2.83907846, 2.83907846, 2.83907846, 2.83907846, 2.83907846,\n",
       "         2.83907846, 2.83907846, 2.83907846, 2.83907846, 2.87356464,\n",
       "         2.87356464, 2.91235066, 2.93385687, 2.93385687, 2.94443898,\n",
       "         2.94443898, 2.94443898, 2.98315349, 2.98315349, 2.98315349,\n",
       "         2.98505043, 2.98505043, 3.00856459, 3.00856459, 3.00856459,\n",
       "         3.00856459, 3.02042489, 3.02042489, 3.04293546, 3.04293546,\n",
       "         3.05459063, 3.05459063, 3.0563569 , 3.0563569 , 3.06921505,\n",
       "         3.06921505, 3.06921505, 3.07153524, 3.07153524, 3.09104245,\n",
       "         3.09104245, 3.09104245, 3.09104245, 3.09104245, 3.09104245,\n",
       "         3.09444575, 3.09444575, 3.09444575, 3.09444575, 3.1214482 ,\n",
       "         3.13658058, 3.15095238, 3.15095238, 3.15806369, 3.17805383,\n",
       "         3.17805383, 3.17805383, 3.17805383, 3.18841662, 3.18841662,\n",
       "         3.19663022, 3.19663022, 3.21887582, 3.21887582, 3.2248579 ,\n",
       "         3.2248579 , 3.2248579 , 3.2248579 , 3.2248579 , 3.2248579 ,\n",
       "         3.2248579 , 3.2248579 , 3.27588734, 3.27588734, 3.27588734,\n",
       "         3.27588734, 3.28044118, 3.29305522, 3.2932112 , 3.2932112 ,\n",
       "         3.29583687, 3.29583687, 3.29583687, 3.29583687, 3.29583687,\n",
       "         3.29583687, 3.29583687, 3.29583687, 3.29583687, 3.29583687,\n",
       "         3.29583687, 3.29583687, 3.29583687, 3.29583687, 3.29583687,\n",
       "         3.29583687, 3.29583687, 3.29583687, 3.29583687, 3.29583687,\n",
       "         3.29583687, 3.29583687, 3.29583687, 3.29583687, 3.29583687,\n",
       "         3.29583687, 3.29583687, 3.29583687, 3.29583687, 3.29583687,\n",
       "         3.29583687, 3.30505352, 3.30505352, 3.30505352, 3.30505352,\n",
       "         3.30505352, 3.30505352, 3.30627479, 3.30642872, 3.30642872,\n",
       "         3.30642872, 3.3100867 , 3.31600254, 3.31600254, 3.31600254,\n",
       "         3.31600254, 3.31600254, 3.31600254, 3.31600254, 3.31600254,\n",
       "         3.31600254, 3.31600254, 3.31600254, 3.31600254, 3.31600254,\n",
       "         3.31600254, 3.31600254, 3.33220451, 3.33220451, 3.3576216 ,\n",
       "         3.3576216 , 3.3576216 , 3.3576216 , 3.3576216 , 3.35863777,\n",
       "         3.35863777, 3.35863777, 3.35863777, 3.3638416 , 3.3638416 ,\n",
       "         3.3638416 , 3.3638416 , 3.3638416 , 3.3638416 , 3.38439026,\n",
       "         3.39156783, 3.40119738, 3.40119738, 3.40535539, 3.40535539,\n",
       "         3.40535539, 3.40535539, 3.40535539, 3.42426265, 3.42426265,\n",
       "         3.42426265, 3.4339872 , 3.4339872 , 3.4339872 , 3.4339872 ,\n",
       "         3.4339872 , 3.4339872 , 3.43626847, 3.43626847, 3.44998755,\n",
       "         3.44998755, 3.44998755, 3.44998755, 3.44998755, 3.45618418,\n",
       "         3.45618418, 3.4657359 , 3.4657359 , 3.4657359 , 3.47429294,\n",
       "         3.47429294, 3.47429294, 3.47429294, 3.47429294, 3.47429294,\n",
       "         3.47429294, 3.47777255, 3.47777255, 3.47777255, 3.47777255,\n",
       "         3.50618183, 3.51154544, 3.52636052, 3.52636052, 3.52636052,\n",
       "         3.54095932, 3.55594217, 3.56600536, 3.56600536, 3.56600536,\n",
       "         3.56600536, 3.57386695, 3.58351894, 3.59731226, 3.59731226,\n",
       "         3.59731226, 3.59731226, 3.63098548, 3.63098548, 3.63769668,\n",
       "         3.63769668, 3.67630067, 3.68887945, 3.68887945, 3.68887945,\n",
       "         3.68887945, 3.69882978, 3.70376807, 3.70376807, 3.70592092,\n",
       "         3.70592092, 3.70592092, 3.70592092, 3.70592092, 3.70592092,\n",
       "         3.71661621, 3.75136587, 3.75136587, 3.75136587, 3.77045944,\n",
       "         3.8691155 , 3.8691155 , 3.8691155 , 3.8691155 , 3.8691155 ,\n",
       "         3.8691155 , 3.87328218, 3.92197334, 3.9220565 , 3.9220565 ,\n",
       "         3.93182563, 3.94150025, 3.9604169 , 3.9676942 , 3.9676942 ,\n",
       "         3.97029191, 3.97029191, 3.97029191, 3.97029191, 3.97029191,\n",
       "         3.97029191, 3.97029191, 3.98069423, 3.98069423, 3.98069423,\n",
       "         3.99083419, 3.99083419, 3.99083419, 3.99083419, 3.99083419,\n",
       "         4.02535169, 4.02535169, 4.03320825, 4.04129534, 4.04129534,\n",
       "         4.0517119 , 4.0517119 , 4.0517119 , 4.0517119 , 4.0517119 ,\n",
       "         4.0517119 , 4.0517119 , 4.05922158, 4.05922158, 4.06044301,\n",
       "         4.06044301, 4.07718484, 4.07718484, 4.1009891 , 4.12995299,\n",
       "         4.13323189, 4.14280451, 4.16446591, 4.18965474, 4.18965474,\n",
       "         4.21360798, 4.21360798, 4.2527718 , 4.2527718 , 4.25632168,\n",
       "         4.25632168, 4.25632168, 4.25632168, 4.25632168, 4.25632168,\n",
       "         4.25632168, 4.27666612, 4.27666612, 4.28059312, 4.31079913,\n",
       "         4.31079913, 4.31079913, 4.31079913, 4.31079913, 4.33401742,\n",
       "         4.34758658, 4.35323099, 4.35323099, 4.35323099, 4.36038795,\n",
       "         4.36038795, 4.36891987, 4.36891987, 4.36891987, 4.37281812,\n",
       "         4.37281812, 4.38014987, 4.38014987, 4.38452351, 4.38452351,\n",
       "         4.38452351, 4.38452351, 4.3901188 , 4.3901188 , 4.3901188 ,\n",
       "         4.39444915, 4.39444915, 4.41713192, 4.42089632, 4.42089632,\n",
       "         4.43269955, 4.43269955, 4.43269955, 4.43645563, 4.43645563,\n",
       "         4.47163879, 4.47163879, 4.47163879, 4.50096678, 4.50096678,\n",
       "         4.51085951, 4.51085951, 4.51085951, 4.51085951, 4.52264908,\n",
       "         4.52264908, 4.54859983, 4.54859983, 4.67679293, 4.67679293,\n",
       "         4.69957086, 4.69957086, 4.71745636, 4.71745636, 4.71745636,\n",
       "         4.71745636, 4.73860782, 4.73860782, 4.73860782, 4.79579055,\n",
       "         4.79579055, 4.79579055, 4.79579055, 4.90267882, 4.90267882,\n",
       "         4.90897164, 4.90897164, 4.91730069, 4.91730069, 4.91730069,\n",
       "         4.99396918, 4.99396918, 5.02749241, 5.02749241, 5.02749241,\n",
       "         5.02749241, 5.03995135, 5.03995135, 5.03995135, 5.11118445,\n",
       "         5.11118445, 5.35817699, 5.35817699, 5.35817699, 5.35894199,\n",
       "         5.40618115, 5.43164561, 5.43164561, 5.43164561, 5.43164561,\n",
       "         5.51552654, 5.51552654, 5.57357887, 5.57357887, 5.5759491 ,\n",
       "         5.5759491 , 5.5759491 , 5.5759491 , 6.24091735, 6.24091735,\n",
       "         6.24091735])),\n",
       " (0.9292998349248491, 2.9622457416890815, 0.9565707278371042))"
      ]
     },
     "execution_count": 24,
     "metadata": {},
     "output_type": "execute_result"
    },
    {
     "data": {
      "image/png": "[encoded data removed]",
      "text/plain": [
       "<Figure size 432x288 with 1 Axes>"
      ]
     },
     "metadata": {
      "needs_background": "light"
     },
     "output_type": "display_data"
    }
   ],
   "source": [
    "fare11=st.probplot(fare1,dist=\"norm\",plot=plt);\n",
    "fare11"
   ]
  },
  {
   "cell_type": "code",
   "execution_count": 27,
   "id": "6406ab99",
   "metadata": {},
   "outputs": [
    {
     "data": {
      "text/plain": [
       "4.7792532923723545"
      ]
     },
     "execution_count": 27,
     "metadata": {},
     "output_type": "execute_result"
    }
   ],
   "source": [
    "st.skew(df[\"fare\"])"
   ]
  },
  {
   "cell_type": "code",
   "execution_count": 25,
   "id": "cee52ae9",
   "metadata": {},
   "outputs": [
    {
     "data": {
      "text/plain": [
       "0.39426283638993376"
      ]
     },
     "execution_count": 25,
     "metadata": {},
     "output_type": "execute_result"
    }
   ],
   "source": [
    " st.skew(fare1)"
   ]
  },
  {
   "cell_type": "markdown",
   "id": "91694985",
   "metadata": {},
   "source": [
    "- Skewness has been reduced from 4.7792532923723545 to 0.39426283638993376 that means our column has been transformed "
   ]
  },
  {
   "cell_type": "code",
   "execution_count": null,
   "id": "bed0ec91",
   "metadata": {},
   "outputs": [],
   "source": []
  }
 ],
 "metadata": {
  "kernelspec": {
   "display_name": "Python 3 (ipykernel)",
   "language": "python",
   "name": "python3"
  },
  "language_info": {
   "codemirror_mode": {
    "name": "ipython",
    "version": 3
   },
   "file_extension": ".py",
   "mimetype": "text/x-python",
   "name": "python",
   "nbconvert_exporter": "python",
   "pygments_lexer": "ipython3",
   "version": "3.9.12"
  }
 },
 "nbformat": 4,
 "nbformat_minor": 5
}
