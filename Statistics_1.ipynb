{
 "cells": [
  {
   "cell_type": "markdown",
   "id": "7d535e12",
   "metadata": {},
   "source": [
    "- Satistics : It is a branch of Mathematics where we deals with the collection of Data, analysing the data and draw the conclusion.\n",
    "- Making sense of data is called as information.\n",
    "- Raw things -----> Data\n",
    "- Why Statistics is required ?\n",
    "    - We have to draw the conclusion for the population.\n",
    "- Sample is the representation of population.\n",
    "- Population is a set with all possible values.\n",
    "- Our theory depends on approximation.\n",
    "    - Population parameters: when we have find something like mean, median-- in population.\n",
    "    - Sample Statistics- statistics- population parameters.\n",
    " \n",
    "\n",
    "- Sampling Techniques\n",
    "    - Random Sampling : asked randomly\n",
    "    - Stratified Sampling : Strata/group will be mutually exclusive and non-overlapping\n",
    "    - Systematic Sampling : we will take out the every nth sample, n is the gap after we have to take the next sample.\n",
    "    - Conveinence Sampling : Main role -----> Domain knowledge Experts \n",
    "\n",
    "- Statistics plays a major role in decision making.\n",
    "\n",
    "- Types of Stats:\n",
    "            - Descriptive : Summarising your data.(In Numeric/ how much, how many)\n",
    "            - Inferential stats : we will find conclusion of population (Dealing with sampling)\n",
    "                - Specific to general(fact/belief)\n",
    "                - General to specific using hypothesis testing.\n",
    "                - sample - population ---> CLT----> point estimation-----> confidence interval (CI)"
   ]
  },
  {
   "cell_type": "markdown",
   "id": "8f7a6fde",
   "metadata": {},
   "source": [
    "## 1. Descriptive Stats:\n",
    "        - Measures of central tendency.\n",
    "                - Mean : Average\n",
    "                - Median : First sort the data.\n",
    "                - Mode : most frequent value.\n",
    "                    - In right skew: mean > median > mode as mean is shifted to right side.\n",
    "                    - In left skew : mode> median mean  as mean is shifted to left side.\n",
    "        - Measures of Dispersion.\n",
    "        - Measures of symmetry.\n",
    "        - Measures of Peakness."
   ]
  },
  {
   "cell_type": "code",
   "execution_count": 38,
   "id": "4af3be7b",
   "metadata": {},
   "outputs": [],
   "source": [
    "import numpy as np\n",
    "from scipy import stats as st\n",
    "import matplotlib.pyplot as plt\n",
    "import scipy.stats as st"
   ]
  },
  {
   "cell_type": "code",
   "execution_count": 2,
   "id": "51838784",
   "metadata": {},
   "outputs": [
    {
     "data": {
      "text/plain": [
       "152.375"
      ]
     },
     "execution_count": 2,
     "metadata": {},
     "output_type": "execute_result"
    }
   ],
   "source": [
    "l=[150,151,152,150,153,154,155,154]\n",
    "np.mean(l)"
   ]
  },
  {
   "cell_type": "code",
   "execution_count": 3,
   "id": "d0056b93",
   "metadata": {},
   "outputs": [
    {
     "data": {
      "text/plain": [
       "152.5"
      ]
     },
     "execution_count": 3,
     "metadata": {},
     "output_type": "execute_result"
    }
   ],
   "source": [
    "np.median(l)"
   ]
  },
  {
   "cell_type": "code",
   "execution_count": 4,
   "id": "97beaf73",
   "metadata": {},
   "outputs": [
    {
     "data": {
      "text/plain": [
       "ModeResult(mode=array([150]), count=array([2]))"
      ]
     },
     "execution_count": 4,
     "metadata": {},
     "output_type": "execute_result"
    }
   ],
   "source": [
    "st.mode(l)"
   ]
  },
  {
   "cell_type": "markdown",
   "id": "2d85468b",
   "metadata": {},
   "source": [
    " Find out the average of petal length of each species in iris data"
   ]
  },
  {
   "cell_type": "code",
   "execution_count": 5,
   "id": "63c67382",
   "metadata": {},
   "outputs": [],
   "source": [
    "import seaborn as sns"
   ]
  },
  {
   "cell_type": "code",
   "execution_count": 6,
   "id": "e9e19ee5",
   "metadata": {},
   "outputs": [
    {
     "data": {
      "text/html": [
       "<div>\n",
       "<style scoped>\n",
       "    .dataframe tbody tr th:only-of-type {\n",
       "        vertical-align: middle;\n",
       "    }\n",
       "\n",
       "    .dataframe tbody tr th {\n",
       "        vertical-align: top;\n",
       "    }\n",
       "\n",
       "    .dataframe thead th {\n",
       "        text-align: right;\n",
       "    }\n",
       "</style>\n",
       "<table border=\"1\" class=\"dataframe\">\n",
       "  <thead>\n",
       "    <tr style=\"text-align: right;\">\n",
       "      <th></th>\n",
       "      <th>sepal_length</th>\n",
       "      <th>sepal_width</th>\n",
       "      <th>petal_length</th>\n",
       "      <th>petal_width</th>\n",
       "      <th>species</th>\n",
       "    </tr>\n",
       "  </thead>\n",
       "  <tbody>\n",
       "    <tr>\n",
       "      <th>0</th>\n",
       "      <td>5.1</td>\n",
       "      <td>3.5</td>\n",
       "      <td>1.4</td>\n",
       "      <td>0.2</td>\n",
       "      <td>setosa</td>\n",
       "    </tr>\n",
       "    <tr>\n",
       "      <th>1</th>\n",
       "      <td>4.9</td>\n",
       "      <td>3.0</td>\n",
       "      <td>1.4</td>\n",
       "      <td>0.2</td>\n",
       "      <td>setosa</td>\n",
       "    </tr>\n",
       "    <tr>\n",
       "      <th>2</th>\n",
       "      <td>4.7</td>\n",
       "      <td>3.2</td>\n",
       "      <td>1.3</td>\n",
       "      <td>0.2</td>\n",
       "      <td>setosa</td>\n",
       "    </tr>\n",
       "    <tr>\n",
       "      <th>3</th>\n",
       "      <td>4.6</td>\n",
       "      <td>3.1</td>\n",
       "      <td>1.5</td>\n",
       "      <td>0.2</td>\n",
       "      <td>setosa</td>\n",
       "    </tr>\n",
       "    <tr>\n",
       "      <th>4</th>\n",
       "      <td>5.0</td>\n",
       "      <td>3.6</td>\n",
       "      <td>1.4</td>\n",
       "      <td>0.2</td>\n",
       "      <td>setosa</td>\n",
       "    </tr>\n",
       "    <tr>\n",
       "      <th>...</th>\n",
       "      <td>...</td>\n",
       "      <td>...</td>\n",
       "      <td>...</td>\n",
       "      <td>...</td>\n",
       "      <td>...</td>\n",
       "    </tr>\n",
       "    <tr>\n",
       "      <th>145</th>\n",
       "      <td>6.7</td>\n",
       "      <td>3.0</td>\n",
       "      <td>5.2</td>\n",
       "      <td>2.3</td>\n",
       "      <td>virginica</td>\n",
       "    </tr>\n",
       "    <tr>\n",
       "      <th>146</th>\n",
       "      <td>6.3</td>\n",
       "      <td>2.5</td>\n",
       "      <td>5.0</td>\n",
       "      <td>1.9</td>\n",
       "      <td>virginica</td>\n",
       "    </tr>\n",
       "    <tr>\n",
       "      <th>147</th>\n",
       "      <td>6.5</td>\n",
       "      <td>3.0</td>\n",
       "      <td>5.2</td>\n",
       "      <td>2.0</td>\n",
       "      <td>virginica</td>\n",
       "    </tr>\n",
       "    <tr>\n",
       "      <th>148</th>\n",
       "      <td>6.2</td>\n",
       "      <td>3.4</td>\n",
       "      <td>5.4</td>\n",
       "      <td>2.3</td>\n",
       "      <td>virginica</td>\n",
       "    </tr>\n",
       "    <tr>\n",
       "      <th>149</th>\n",
       "      <td>5.9</td>\n",
       "      <td>3.0</td>\n",
       "      <td>5.1</td>\n",
       "      <td>1.8</td>\n",
       "      <td>virginica</td>\n",
       "    </tr>\n",
       "  </tbody>\n",
       "</table>\n",
       "<p>150 rows × 5 columns</p>\n",
       "</div>"
      ],
      "text/plain": [
       "     sepal_length  sepal_width  petal_length  petal_width    species\n",
       "0             5.1          3.5           1.4          0.2     setosa\n",
       "1             4.9          3.0           1.4          0.2     setosa\n",
       "2             4.7          3.2           1.3          0.2     setosa\n",
       "3             4.6          3.1           1.5          0.2     setosa\n",
       "4             5.0          3.6           1.4          0.2     setosa\n",
       "..            ...          ...           ...          ...        ...\n",
       "145           6.7          3.0           5.2          2.3  virginica\n",
       "146           6.3          2.5           5.0          1.9  virginica\n",
       "147           6.5          3.0           5.2          2.0  virginica\n",
       "148           6.2          3.4           5.4          2.3  virginica\n",
       "149           5.9          3.0           5.1          1.8  virginica\n",
       "\n",
       "[150 rows x 5 columns]"
      ]
     },
     "execution_count": 6,
     "metadata": {},
     "output_type": "execute_result"
    }
   ],
   "source": [
    "df=sns.load_dataset(\"iris\")\n",
    "df"
   ]
  },
  {
   "cell_type": "code",
   "execution_count": 7,
   "id": "873fa72c",
   "metadata": {},
   "outputs": [
    {
     "data": {
      "text/plain": [
       "3.7580000000000027"
      ]
     },
     "execution_count": 7,
     "metadata": {},
     "output_type": "execute_result"
    }
   ],
   "source": [
    "np.mean(df[\"petal_length\"])"
   ]
  },
  {
   "cell_type": "code",
   "execution_count": 8,
   "id": "14a872e8",
   "metadata": {},
   "outputs": [
    {
     "data": {
      "text/plain": [
       "species\n",
       "setosa        1.462\n",
       "versicolor    4.260\n",
       "virginica     5.552\n",
       "Name: petal_length, dtype: float64"
      ]
     },
     "execution_count": 8,
     "metadata": {},
     "output_type": "execute_result"
    }
   ],
   "source": [
    "df.groupby([\"species\"])[\"petal_length\"].mean()"
   ]
  },
  {
   "cell_type": "code",
   "execution_count": 9,
   "id": "9618e8d8",
   "metadata": {},
   "outputs": [
    {
     "data": {
      "text/plain": [
       "species\n",
       "setosa        1.50\n",
       "versicolor    4.35\n",
       "virginica     5.55\n",
       "Name: petal_length, dtype: float64"
      ]
     },
     "execution_count": 9,
     "metadata": {},
     "output_type": "execute_result"
    }
   ],
   "source": [
    "df.groupby([\"species\"])[\"petal_length\"].median()"
   ]
  },
  {
   "cell_type": "code",
   "execution_count": 10,
   "id": "240315a7",
   "metadata": {},
   "outputs": [
    {
     "data": {
      "text/plain": [
       "1.79843682124227"
      ]
     },
     "execution_count": 10,
     "metadata": {},
     "output_type": "execute_result"
    }
   ],
   "source": [
    "np.std(l)"
   ]
  },
  {
   "cell_type": "code",
   "execution_count": 11,
   "id": "372d6554",
   "metadata": {},
   "outputs": [
    {
     "data": {
      "text/plain": [
       "3.234375"
      ]
     },
     "execution_count": 11,
     "metadata": {},
     "output_type": "execute_result"
    }
   ],
   "source": [
    "np.var(l) ##always gives population mean"
   ]
  },
  {
   "cell_type": "code",
   "execution_count": 12,
   "id": "d232e872",
   "metadata": {},
   "outputs": [
    {
     "data": {
      "text/plain": [
       "5"
      ]
     },
     "execution_count": 12,
     "metadata": {},
     "output_type": "execute_result"
    }
   ],
   "source": [
    "range=max(l)-min(l)\n",
    "range"
   ]
  },
  {
   "cell_type": "code",
   "execution_count": null,
   "id": "bd8b6757",
   "metadata": {},
   "outputs": [],
   "source": []
  },
  {
   "cell_type": "markdown",
   "id": "9c7197cf",
   "metadata": {},
   "source": [
    "- when will std be 0?\n",
    "    - when all the data points are equal, no deviation from mean then std is 0"
   ]
  },
  {
   "cell_type": "markdown",
   "id": "0baa61e5",
   "metadata": {},
   "source": [
    "## Percentile"
   ]
  },
  {
   "cell_type": "code",
   "execution_count": 13,
   "id": "614c1c74",
   "metadata": {},
   "outputs": [],
   "source": [
    "l=[2,2,3,4,5,5,5,6,7,8,8,8,8,8,9,9,10,10,11,12] ## mandatory data is sorted first"
   ]
  },
  {
   "cell_type": "markdown",
   "id": "70228dc1",
   "metadata": {},
   "source": [
    "- find 25,20,30 percentile value?"
   ]
  },
  {
   "cell_type": "markdown",
   "id": "89c6066b",
   "metadata": {},
   "source": [
    "Px=x(n+1)/100\n",
    "- here, x is our percentile\n",
    "- n=len(l)\n",
    "- px gives the index"
   ]
  },
  {
   "cell_type": "markdown",
   "id": "86b90b36",
   "metadata": {},
   "source": [
    "- 25 percentile"
   ]
  },
  {
   "cell_type": "code",
   "execution_count": 14,
   "id": "71baa3bd",
   "metadata": {},
   "outputs": [
    {
     "data": {
      "text/plain": [
       "20"
      ]
     },
     "execution_count": 14,
     "metadata": {},
     "output_type": "execute_result"
    }
   ],
   "source": [
    "len(l)"
   ]
  },
  {
   "cell_type": "code",
   "execution_count": 15,
   "id": "d4b7f798",
   "metadata": {},
   "outputs": [
    {
     "data": {
      "text/plain": [
       "5.25"
      ]
     },
     "execution_count": 15,
     "metadata": {},
     "output_type": "execute_result"
    }
   ],
   "source": [
    "25*(20+1)/100"
   ]
  },
  {
   "cell_type": "markdown",
   "id": "00b75e81",
   "metadata": {},
   "source": [
    "- approx 5 index, means 25 percent of data is having less than 5 value"
   ]
  },
  {
   "cell_type": "markdown",
   "id": "a13d17cd",
   "metadata": {},
   "source": [
    "- 20 percentile"
   ]
  },
  {
   "cell_type": "code",
   "execution_count": 16,
   "id": "34f53bd1",
   "metadata": {},
   "outputs": [
    {
     "data": {
      "text/plain": [
       "4.2"
      ]
     },
     "execution_count": 16,
     "metadata": {},
     "output_type": "execute_result"
    }
   ],
   "source": [
    "20*(20+1)/100"
   ]
  },
  {
   "cell_type": "markdown",
   "id": "71257e70",
   "metadata": {},
   "source": [
    "- 4 index value, means 20 percent of data is having less than 4 value"
   ]
  },
  {
   "cell_type": "code",
   "execution_count": 17,
   "id": "c77ba854",
   "metadata": {},
   "outputs": [
    {
     "data": {
      "text/plain": [
       "6.3"
      ]
     },
     "execution_count": 17,
     "metadata": {},
     "output_type": "execute_result"
    }
   ],
   "source": [
    "30*(20+1)/100"
   ]
  },
  {
   "cell_type": "markdown",
   "id": "12aa138e",
   "metadata": {},
   "source": [
    "6 index value, means 30 percent of data is having less than 4 value"
   ]
  },
  {
   "cell_type": "code",
   "execution_count": 18,
   "id": "9fadd8ec",
   "metadata": {},
   "outputs": [
    {
     "data": {
      "text/plain": [
       "array([4.8, 5. , 5. ])"
      ]
     },
     "execution_count": 18,
     "metadata": {},
     "output_type": "execute_result"
    }
   ],
   "source": [
    "np.percentile(l,[20,25,30])"
   ]
  },
  {
   "cell_type": "markdown",
   "id": "c8c9075b",
   "metadata": {},
   "source": [
    "### Formula 2:\n",
    "#### Percentile=(Number of values below \"x\"/Total no of values )* 100"
   ]
  },
  {
   "cell_type": "code",
   "execution_count": null,
   "id": "d6df28e1",
   "metadata": {},
   "outputs": [],
   "source": []
  }
 ],
 "metadata": {
  "kernelspec": {
   "display_name": "Python 3 (ipykernel)",
   "language": "python",
   "name": "python3"
  },
  "language_info": {
   "codemirror_mode": {
    "name": "ipython",
    "version": 3
   },
   "file_extension": ".py",
   "mimetype": "text/x-python",
   "name": "python",
   "nbconvert_exporter": "python",
   "pygments_lexer": "ipython3",
   "version": "3.9.12"
  }
 },
 "nbformat": 4,
 "nbformat_minor": 5
}
