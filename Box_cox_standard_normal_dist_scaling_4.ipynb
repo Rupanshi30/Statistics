{
 "cells": [
  {
   "cell_type": "markdown",
   "id": "cf2d2f5e",
   "metadata": {},
   "source": [
    "## 29/12/2022"
   ]
  },
  {
   "cell_type": "markdown",
   "id": "4012c0b5",
   "metadata": {},
   "source": [
    "## Box-Cox"
   ]
  },
  {
   "cell_type": "code",
   "execution_count": 1,
   "id": "5bc37d37",
   "metadata": {},
   "outputs": [],
   "source": [
    "import numpy as np\n",
    "from scipy import stats as st\n",
    "import matplotlib.pyplot as plt\n",
    "import pandas as pd\n",
    "import pylab"
   ]
  },
  {
   "cell_type": "code",
   "execution_count": 3,
   "id": "032e0bf1",
   "metadata": {},
   "outputs": [
    {
     "data": {
      "text/html": [
       "<div>\n",
       "<style scoped>\n",
       "    .dataframe tbody tr th:only-of-type {\n",
       "        vertical-align: middle;\n",
       "    }\n",
       "\n",
       "    .dataframe tbody tr th {\n",
       "        vertical-align: top;\n",
       "    }\n",
       "\n",
       "    .dataframe thead th {\n",
       "        text-align: right;\n",
       "    }\n",
       "</style>\n",
       "<table border=\"1\" class=\"dataframe\">\n",
       "  <thead>\n",
       "    <tr style=\"text-align: right;\">\n",
       "      <th></th>\n",
       "      <th>weight</th>\n",
       "      <th>height</th>\n",
       "    </tr>\n",
       "  </thead>\n",
       "  <tbody>\n",
       "    <tr>\n",
       "      <th>0</th>\n",
       "      <td>12</td>\n",
       "      <td>123</td>\n",
       "    </tr>\n",
       "    <tr>\n",
       "      <th>1</th>\n",
       "      <td>10</td>\n",
       "      <td>100</td>\n",
       "    </tr>\n",
       "    <tr>\n",
       "      <th>2</th>\n",
       "      <td>15</td>\n",
       "      <td>155</td>\n",
       "    </tr>\n",
       "    <tr>\n",
       "      <th>3</th>\n",
       "      <td>16</td>\n",
       "      <td>160</td>\n",
       "    </tr>\n",
       "    <tr>\n",
       "      <th>4</th>\n",
       "      <td>34</td>\n",
       "      <td>134</td>\n",
       "    </tr>\n",
       "    <tr>\n",
       "      <th>5</th>\n",
       "      <td>56</td>\n",
       "      <td>156</td>\n",
       "    </tr>\n",
       "    <tr>\n",
       "      <th>6</th>\n",
       "      <td>26</td>\n",
       "      <td>126</td>\n",
       "    </tr>\n",
       "    <tr>\n",
       "      <th>7</th>\n",
       "      <td>78</td>\n",
       "      <td>178</td>\n",
       "    </tr>\n",
       "    <tr>\n",
       "      <th>8</th>\n",
       "      <td>68</td>\n",
       "      <td>168</td>\n",
       "    </tr>\n",
       "    <tr>\n",
       "      <th>9</th>\n",
       "      <td>12</td>\n",
       "      <td>180</td>\n",
       "    </tr>\n",
       "    <tr>\n",
       "      <th>10</th>\n",
       "      <td>50</td>\n",
       "      <td>150</td>\n",
       "    </tr>\n",
       "    <tr>\n",
       "      <th>11</th>\n",
       "      <td>76</td>\n",
       "      <td>176</td>\n",
       "    </tr>\n",
       "    <tr>\n",
       "      <th>12</th>\n",
       "      <td>45</td>\n",
       "      <td>120</td>\n",
       "    </tr>\n",
       "  </tbody>\n",
       "</table>\n",
       "</div>"
      ],
      "text/plain": [
       "    weight  height\n",
       "0       12     123\n",
       "1       10     100\n",
       "2       15     155\n",
       "3       16     160\n",
       "4       34     134\n",
       "5       56     156\n",
       "6       26     126\n",
       "7       78     178\n",
       "8       68     168\n",
       "9       12     180\n",
       "10      50     150\n",
       "11      76     176\n",
       "12      45     120"
      ]
     },
     "execution_count": 3,
     "metadata": {},
     "output_type": "execute_result"
    }
   ],
   "source": [
    "df=pd.DataFrame({\"weight\":[12,10,15,16,34,56,26,78,68,12,50,76,45],\"height\":[123,100,155,160,134,156,126,178,168,180,150,176,120]})\n",
    "df"
   ]
  },
  {
   "cell_type": "markdown",
   "id": "10dfa574",
   "metadata": {},
   "source": [
    "- check whether its normally distributed or not?"
   ]
  },
  {
   "cell_type": "code",
   "execution_count": 4,
   "id": "d87158bb",
   "metadata": {},
   "outputs": [
    {
     "name": "stderr",
     "output_type": "stream",
     "text": [
      "C:\\Users\\rupan\\anaconda3\\lib\\site-packages\\numpy\\core\\fromnumeric.py:3438: FutureWarning: In a future version, DataFrame.mean(axis=None) will return a scalar mean over the entire DataFrame. To retain the old behavior, use 'frame.mean(axis=0)' or just 'frame.mean()'\n",
      "  return mean(axis=axis, dtype=dtype, out=out, **kwargs)\n"
     ]
    },
    {
     "data": {
      "text/plain": [
       "weight     38.307692\n",
       "height    148.153846\n",
       "dtype: float64"
      ]
     },
     "execution_count": 4,
     "metadata": {},
     "output_type": "execute_result"
    }
   ],
   "source": [
    "np.mean(df)"
   ]
  },
  {
   "cell_type": "code",
   "execution_count": 5,
   "id": "6f61a20e",
   "metadata": {},
   "outputs": [
    {
     "data": {
      "text/plain": [
       "ModeResult(mode=array([[ 12, 100]], dtype=int64), count=array([[2, 1]]))"
      ]
     },
     "execution_count": 5,
     "metadata": {},
     "output_type": "execute_result"
    }
   ],
   "source": [
    "st.mode(df)"
   ]
  },
  {
   "cell_type": "code",
   "execution_count": 6,
   "id": "d7a29fbc",
   "metadata": {},
   "outputs": [
    {
     "data": {
      "text/plain": [
       "89.0"
      ]
     },
     "execution_count": 6,
     "metadata": {},
     "output_type": "execute_result"
    }
   ],
   "source": [
    "np.median(df)"
   ]
  },
  {
   "cell_type": "code",
   "execution_count": 7,
   "id": "977ab6cb",
   "metadata": {},
   "outputs": [
    {
     "name": "stdout",
     "output_type": "stream",
     "text": [
      "weight -------- 0.3879780248754408\n",
      "height -------- -0.4360447685611474\n"
     ]
    }
   ],
   "source": [
    "for i in df.columns:\n",
    "    print(i,\"--------\",df[i].skew())"
   ]
  },
  {
   "cell_type": "code",
   "execution_count": 8,
   "id": "39357c6f",
   "metadata": {},
   "outputs": [
    {
     "data": {
      "image/png": "[encoded data removed]",
      "text/plain": [
       "<Figure size 432x288 with 2 Axes>"
      ]
     },
     "metadata": {
      "needs_background": "light"
     },
     "output_type": "display_data"
    }
   ],
   "source": [
    "pos=1\n",
    "for i in df.columns:\n",
    "    plt.subplot(1,2,pos)\n",
    "    st.probplot(df[i],dist=\"norm\",plot=pylab);\n",
    "    plt.title(i)\n",
    "    pos=pos+1"
   ]
  },
  {
   "cell_type": "markdown",
   "id": "9521e203",
   "metadata": {},
   "source": [
    "### apply transformation"
   ]
  },
  {
   "cell_type": "code",
   "execution_count": 9,
   "id": "0f9da54c",
   "metadata": {},
   "outputs": [],
   "source": [
    "from sklearn.preprocessing import PowerTransformer "
   ]
  },
  {
   "cell_type": "code",
   "execution_count": 10,
   "id": "bd2e803b",
   "metadata": {
    "scrolled": true
   },
   "outputs": [
    {
     "name": "stdout",
     "output_type": "stream",
     "text": [
      "[[-1.21732037 -1.05620653]\n",
      " [-1.42778272 -1.76673516]\n",
      " [-0.95095624  0.20311513]\n",
      " [-0.87206859  0.42876428]\n",
      " [ 0.11436277 -0.65916189]\n",
      " [ 0.83831087  0.24761598]\n",
      " [-0.25086416 -0.95161982]\n",
      " [ 1.35310366  1.30648976]\n",
      " [ 1.13652554  0.80619655]\n",
      " [-1.21732037  1.41036327]\n",
      " [ 0.66861387 -0.01468167]\n",
      " [ 1.31172256  1.20388976]\n",
      " [ 0.5136732  -1.15802967]]\n"
     ]
    }
   ],
   "source": [
    "pt=PowerTransformer(method=\"box-cox\") ##default method 'yeo-johnson'\n",
    "tt=pt.fit_transform(df)  ##expected 2-D array\n",
    "print(tt)"
   ]
  },
  {
   "cell_type": "markdown",
   "id": "dd7ee0c5",
   "metadata": {},
   "source": [
    "- changing from array to dataframe"
   ]
  },
  {
   "cell_type": "code",
   "execution_count": 11,
   "id": "9cd7ee91",
   "metadata": {},
   "outputs": [
    {
     "data": {
      "text/html": [
       "<div>\n",
       "<style scoped>\n",
       "    .dataframe tbody tr th:only-of-type {\n",
       "        vertical-align: middle;\n",
       "    }\n",
       "\n",
       "    .dataframe tbody tr th {\n",
       "        vertical-align: top;\n",
       "    }\n",
       "\n",
       "    .dataframe thead th {\n",
       "        text-align: right;\n",
       "    }\n",
       "</style>\n",
       "<table border=\"1\" class=\"dataframe\">\n",
       "  <thead>\n",
       "    <tr style=\"text-align: right;\">\n",
       "      <th></th>\n",
       "      <th>weight_t</th>\n",
       "      <th>height_t</th>\n",
       "    </tr>\n",
       "  </thead>\n",
       "  <tbody>\n",
       "    <tr>\n",
       "      <th>0</th>\n",
       "      <td>-1.217320</td>\n",
       "      <td>-1.056207</td>\n",
       "    </tr>\n",
       "    <tr>\n",
       "      <th>1</th>\n",
       "      <td>-1.427783</td>\n",
       "      <td>-1.766735</td>\n",
       "    </tr>\n",
       "    <tr>\n",
       "      <th>2</th>\n",
       "      <td>-0.950956</td>\n",
       "      <td>0.203115</td>\n",
       "    </tr>\n",
       "    <tr>\n",
       "      <th>3</th>\n",
       "      <td>-0.872069</td>\n",
       "      <td>0.428764</td>\n",
       "    </tr>\n",
       "    <tr>\n",
       "      <th>4</th>\n",
       "      <td>0.114363</td>\n",
       "      <td>-0.659162</td>\n",
       "    </tr>\n",
       "    <tr>\n",
       "      <th>5</th>\n",
       "      <td>0.838311</td>\n",
       "      <td>0.247616</td>\n",
       "    </tr>\n",
       "    <tr>\n",
       "      <th>6</th>\n",
       "      <td>-0.250864</td>\n",
       "      <td>-0.951620</td>\n",
       "    </tr>\n",
       "    <tr>\n",
       "      <th>7</th>\n",
       "      <td>1.353104</td>\n",
       "      <td>1.306490</td>\n",
       "    </tr>\n",
       "    <tr>\n",
       "      <th>8</th>\n",
       "      <td>1.136526</td>\n",
       "      <td>0.806197</td>\n",
       "    </tr>\n",
       "    <tr>\n",
       "      <th>9</th>\n",
       "      <td>-1.217320</td>\n",
       "      <td>1.410363</td>\n",
       "    </tr>\n",
       "    <tr>\n",
       "      <th>10</th>\n",
       "      <td>0.668614</td>\n",
       "      <td>-0.014682</td>\n",
       "    </tr>\n",
       "    <tr>\n",
       "      <th>11</th>\n",
       "      <td>1.311723</td>\n",
       "      <td>1.203890</td>\n",
       "    </tr>\n",
       "    <tr>\n",
       "      <th>12</th>\n",
       "      <td>0.513673</td>\n",
       "      <td>-1.158030</td>\n",
       "    </tr>\n",
       "  </tbody>\n",
       "</table>\n",
       "</div>"
      ],
      "text/plain": [
       "    weight_t  height_t\n",
       "0  -1.217320 -1.056207\n",
       "1  -1.427783 -1.766735\n",
       "2  -0.950956  0.203115\n",
       "3  -0.872069  0.428764\n",
       "4   0.114363 -0.659162\n",
       "5   0.838311  0.247616\n",
       "6  -0.250864 -0.951620\n",
       "7   1.353104  1.306490\n",
       "8   1.136526  0.806197\n",
       "9  -1.217320  1.410363\n",
       "10  0.668614 -0.014682\n",
       "11  1.311723  1.203890\n",
       "12  0.513673 -1.158030"
      ]
     },
     "execution_count": 11,
     "metadata": {},
     "output_type": "execute_result"
    }
   ],
   "source": [
    "df_t=pd.DataFrame(tt,columns=[\"weight_t\",\"height_t\"])\n",
    "df_t"
   ]
  },
  {
   "cell_type": "code",
   "execution_count": 12,
   "id": "c310b77f",
   "metadata": {},
   "outputs": [
    {
     "name": "stdout",
     "output_type": "stream",
     "text": [
      "weight_t -------- -0.07248975464725532\n",
      "height_t -------- -0.1735776482534124\n"
     ]
    }
   ],
   "source": [
    "for i in df_t.columns:\n",
    "    print(i,\"--------\",df_t[i].skew())"
   ]
  },
  {
   "cell_type": "markdown",
   "id": "cf0a144d",
   "metadata": {},
   "source": [
    "changing 26 to 0 in weight"
   ]
  },
  {
   "cell_type": "code",
   "execution_count": 13,
   "id": "0470fe4b",
   "metadata": {},
   "outputs": [
    {
     "data": {
      "text/html": [
       "<div>\n",
       "<style scoped>\n",
       "    .dataframe tbody tr th:only-of-type {\n",
       "        vertical-align: middle;\n",
       "    }\n",
       "\n",
       "    .dataframe tbody tr th {\n",
       "        vertical-align: top;\n",
       "    }\n",
       "\n",
       "    .dataframe thead th {\n",
       "        text-align: right;\n",
       "    }\n",
       "</style>\n",
       "<table border=\"1\" class=\"dataframe\">\n",
       "  <thead>\n",
       "    <tr style=\"text-align: right;\">\n",
       "      <th></th>\n",
       "      <th>weight</th>\n",
       "      <th>height</th>\n",
       "    </tr>\n",
       "  </thead>\n",
       "  <tbody>\n",
       "    <tr>\n",
       "      <th>0</th>\n",
       "      <td>12</td>\n",
       "      <td>123</td>\n",
       "    </tr>\n",
       "    <tr>\n",
       "      <th>1</th>\n",
       "      <td>10</td>\n",
       "      <td>100</td>\n",
       "    </tr>\n",
       "    <tr>\n",
       "      <th>2</th>\n",
       "      <td>15</td>\n",
       "      <td>155</td>\n",
       "    </tr>\n",
       "    <tr>\n",
       "      <th>3</th>\n",
       "      <td>16</td>\n",
       "      <td>160</td>\n",
       "    </tr>\n",
       "    <tr>\n",
       "      <th>4</th>\n",
       "      <td>34</td>\n",
       "      <td>134</td>\n",
       "    </tr>\n",
       "    <tr>\n",
       "      <th>5</th>\n",
       "      <td>56</td>\n",
       "      <td>156</td>\n",
       "    </tr>\n",
       "    <tr>\n",
       "      <th>6</th>\n",
       "      <td>0</td>\n",
       "      <td>126</td>\n",
       "    </tr>\n",
       "    <tr>\n",
       "      <th>7</th>\n",
       "      <td>78</td>\n",
       "      <td>178</td>\n",
       "    </tr>\n",
       "    <tr>\n",
       "      <th>8</th>\n",
       "      <td>68</td>\n",
       "      <td>168</td>\n",
       "    </tr>\n",
       "    <tr>\n",
       "      <th>9</th>\n",
       "      <td>12</td>\n",
       "      <td>180</td>\n",
       "    </tr>\n",
       "    <tr>\n",
       "      <th>10</th>\n",
       "      <td>50</td>\n",
       "      <td>150</td>\n",
       "    </tr>\n",
       "    <tr>\n",
       "      <th>11</th>\n",
       "      <td>76</td>\n",
       "      <td>176</td>\n",
       "    </tr>\n",
       "    <tr>\n",
       "      <th>12</th>\n",
       "      <td>45</td>\n",
       "      <td>120</td>\n",
       "    </tr>\n",
       "  </tbody>\n",
       "</table>\n",
       "</div>"
      ],
      "text/plain": [
       "    weight  height\n",
       "0       12     123\n",
       "1       10     100\n",
       "2       15     155\n",
       "3       16     160\n",
       "4       34     134\n",
       "5       56     156\n",
       "6        0     126\n",
       "7       78     178\n",
       "8       68     168\n",
       "9       12     180\n",
       "10      50     150\n",
       "11      76     176\n",
       "12      45     120"
      ]
     },
     "execution_count": 13,
     "metadata": {},
     "output_type": "execute_result"
    }
   ],
   "source": [
    "df=pd.DataFrame({\"weight\":[12,10,15,16,34,56,0,78,68,12,50,76,45],\"height\":[123,100,155,160,134,156,126,178,168,180,150,176,120]})\n",
    "df"
   ]
  },
  {
   "cell_type": "code",
   "execution_count": 14,
   "id": "3099a69d",
   "metadata": {},
   "outputs": [
    {
     "ename": "ValueError",
     "evalue": "The Box-Cox transformation can only be applied to strictly positive data",
     "output_type": "error",
     "traceback": [
      "\u001b[1;31m---------------------------------------------------------------------------\u001b[0m",
      "\u001b[1;31mValueError\u001b[0m                                Traceback (most recent call last)",
      "Input \u001b[1;32mIn [14]\u001b[0m, in \u001b[0;36m<cell line: 2>\u001b[1;34m()\u001b[0m\n\u001b[0;32m      1\u001b[0m pt\u001b[38;5;241m=\u001b[39mPowerTransformer(method\u001b[38;5;241m=\u001b[39m\u001b[38;5;124m\"\u001b[39m\u001b[38;5;124mbox-cox\u001b[39m\u001b[38;5;124m\"\u001b[39m) \u001b[38;5;66;03m##default method 'yeo-johnson'\u001b[39;00m\n\u001b[1;32m----> 2\u001b[0m tt\u001b[38;5;241m=\u001b[39m\u001b[43mpt\u001b[49m\u001b[38;5;241;43m.\u001b[39;49m\u001b[43mfit_transform\u001b[49m\u001b[43m(\u001b[49m\u001b[43mdf\u001b[49m\u001b[43m)\u001b[49m  \u001b[38;5;66;03m##expected 2-D array\u001b[39;00m\n\u001b[0;32m      3\u001b[0m \u001b[38;5;28mprint\u001b[39m(tt)\n",
      "File \u001b[1;32m~\\anaconda3\\lib\\site-packages\\sklearn\\preprocessing\\_data.py:3065\u001b[0m, in \u001b[0;36mPowerTransformer.fit_transform\u001b[1;34m(self, X, y)\u001b[0m\n\u001b[0;32m   3048\u001b[0m \u001b[38;5;28;01mdef\u001b[39;00m \u001b[38;5;21mfit_transform\u001b[39m(\u001b[38;5;28mself\u001b[39m, X, y\u001b[38;5;241m=\u001b[39m\u001b[38;5;28;01mNone\u001b[39;00m):\n\u001b[0;32m   3049\u001b[0m     \u001b[38;5;124;03m\"\"\"Fit `PowerTransformer` to `X`, then transform `X`.\u001b[39;00m\n\u001b[0;32m   3050\u001b[0m \n\u001b[0;32m   3051\u001b[0m \u001b[38;5;124;03m    Parameters\u001b[39;00m\n\u001b[1;32m   (...)\u001b[0m\n\u001b[0;32m   3063\u001b[0m \u001b[38;5;124;03m        Transformed data.\u001b[39;00m\n\u001b[0;32m   3064\u001b[0m \u001b[38;5;124;03m    \"\"\"\u001b[39;00m\n\u001b[1;32m-> 3065\u001b[0m     \u001b[38;5;28;01mreturn\u001b[39;00m \u001b[38;5;28;43mself\u001b[39;49m\u001b[38;5;241;43m.\u001b[39;49m\u001b[43m_fit\u001b[49m\u001b[43m(\u001b[49m\u001b[43mX\u001b[49m\u001b[43m,\u001b[49m\u001b[43m \u001b[49m\u001b[43my\u001b[49m\u001b[43m,\u001b[49m\u001b[43m \u001b[49m\u001b[43mforce_transform\u001b[49m\u001b[38;5;241;43m=\u001b[39;49m\u001b[38;5;28;43;01mTrue\u001b[39;49;00m\u001b[43m)\u001b[49m\n",
      "File \u001b[1;32m~\\anaconda3\\lib\\site-packages\\sklearn\\preprocessing\\_data.py:3068\u001b[0m, in \u001b[0;36mPowerTransformer._fit\u001b[1;34m(self, X, y, force_transform)\u001b[0m\n\u001b[0;32m   3067\u001b[0m \u001b[38;5;28;01mdef\u001b[39;00m \u001b[38;5;21m_fit\u001b[39m(\u001b[38;5;28mself\u001b[39m, X, y\u001b[38;5;241m=\u001b[39m\u001b[38;5;28;01mNone\u001b[39;00m, force_transform\u001b[38;5;241m=\u001b[39m\u001b[38;5;28;01mFalse\u001b[39;00m):\n\u001b[1;32m-> 3068\u001b[0m     X \u001b[38;5;241m=\u001b[39m \u001b[38;5;28;43mself\u001b[39;49m\u001b[38;5;241;43m.\u001b[39;49m\u001b[43m_check_input\u001b[49m\u001b[43m(\u001b[49m\u001b[43mX\u001b[49m\u001b[43m,\u001b[49m\u001b[43m \u001b[49m\u001b[43min_fit\u001b[49m\u001b[38;5;241;43m=\u001b[39;49m\u001b[38;5;28;43;01mTrue\u001b[39;49;00m\u001b[43m,\u001b[49m\u001b[43m \u001b[49m\u001b[43mcheck_positive\u001b[49m\u001b[38;5;241;43m=\u001b[39;49m\u001b[38;5;28;43;01mTrue\u001b[39;49;00m\u001b[43m,\u001b[49m\u001b[43m \u001b[49m\u001b[43mcheck_method\u001b[49m\u001b[38;5;241;43m=\u001b[39;49m\u001b[38;5;28;43;01mTrue\u001b[39;49;00m\u001b[43m)\u001b[49m\n\u001b[0;32m   3070\u001b[0m     \u001b[38;5;28;01mif\u001b[39;00m \u001b[38;5;129;01mnot\u001b[39;00m \u001b[38;5;28mself\u001b[39m\u001b[38;5;241m.\u001b[39mcopy \u001b[38;5;129;01mand\u001b[39;00m \u001b[38;5;129;01mnot\u001b[39;00m force_transform:  \u001b[38;5;66;03m# if call from fit()\u001b[39;00m\n\u001b[0;32m   3071\u001b[0m         X \u001b[38;5;241m=\u001b[39m X\u001b[38;5;241m.\u001b[39mcopy()  \u001b[38;5;66;03m# force copy so that fit does not change X inplace\u001b[39;00m\n",
      "File \u001b[1;32m~\\anaconda3\\lib\\site-packages\\sklearn\\preprocessing\\_data.py:3299\u001b[0m, in \u001b[0;36mPowerTransformer._check_input\u001b[1;34m(self, X, in_fit, check_positive, check_shape, check_method)\u001b[0m\n\u001b[0;32m   3297\u001b[0m     np\u001b[38;5;241m.\u001b[39mwarnings\u001b[38;5;241m.\u001b[39mfilterwarnings(\u001b[38;5;124m\"\u001b[39m\u001b[38;5;124mignore\u001b[39m\u001b[38;5;124m\"\u001b[39m, \u001b[38;5;124mr\u001b[39m\u001b[38;5;124m\"\u001b[39m\u001b[38;5;124mAll-NaN (slice|axis) encountered\u001b[39m\u001b[38;5;124m\"\u001b[39m)\n\u001b[0;32m   3298\u001b[0m     \u001b[38;5;28;01mif\u001b[39;00m check_positive \u001b[38;5;129;01mand\u001b[39;00m \u001b[38;5;28mself\u001b[39m\u001b[38;5;241m.\u001b[39mmethod \u001b[38;5;241m==\u001b[39m \u001b[38;5;124m\"\u001b[39m\u001b[38;5;124mbox-cox\u001b[39m\u001b[38;5;124m\"\u001b[39m \u001b[38;5;129;01mand\u001b[39;00m np\u001b[38;5;241m.\u001b[39mnanmin(X) \u001b[38;5;241m<\u001b[39m\u001b[38;5;241m=\u001b[39m \u001b[38;5;241m0\u001b[39m:\n\u001b[1;32m-> 3299\u001b[0m         \u001b[38;5;28;01mraise\u001b[39;00m \u001b[38;5;167;01mValueError\u001b[39;00m(\n\u001b[0;32m   3300\u001b[0m             \u001b[38;5;124m\"\u001b[39m\u001b[38;5;124mThe Box-Cox transformation can only be \u001b[39m\u001b[38;5;124m\"\u001b[39m\n\u001b[0;32m   3301\u001b[0m             \u001b[38;5;124m\"\u001b[39m\u001b[38;5;124mapplied to strictly positive data\u001b[39m\u001b[38;5;124m\"\u001b[39m\n\u001b[0;32m   3302\u001b[0m         )\n\u001b[0;32m   3304\u001b[0m \u001b[38;5;28;01mif\u001b[39;00m check_shape \u001b[38;5;129;01mand\u001b[39;00m \u001b[38;5;129;01mnot\u001b[39;00m X\u001b[38;5;241m.\u001b[39mshape[\u001b[38;5;241m1\u001b[39m] \u001b[38;5;241m==\u001b[39m \u001b[38;5;28mlen\u001b[39m(\u001b[38;5;28mself\u001b[39m\u001b[38;5;241m.\u001b[39mlambdas_):\n\u001b[0;32m   3305\u001b[0m     \u001b[38;5;28;01mraise\u001b[39;00m \u001b[38;5;167;01mValueError\u001b[39;00m(\n\u001b[0;32m   3306\u001b[0m         \u001b[38;5;124m\"\u001b[39m\u001b[38;5;124mInput data has a different number of features \u001b[39m\u001b[38;5;124m\"\u001b[39m\n\u001b[0;32m   3307\u001b[0m         \u001b[38;5;124m\"\u001b[39m\u001b[38;5;124mthan fitting data. Should have \u001b[39m\u001b[38;5;132;01m{n}\u001b[39;00m\u001b[38;5;124m, data has \u001b[39m\u001b[38;5;132;01m{m}\u001b[39;00m\u001b[38;5;124m\"\u001b[39m\u001b[38;5;241m.\u001b[39mformat(\n\u001b[0;32m   3308\u001b[0m             n\u001b[38;5;241m=\u001b[39m\u001b[38;5;28mlen\u001b[39m(\u001b[38;5;28mself\u001b[39m\u001b[38;5;241m.\u001b[39mlambdas_), m\u001b[38;5;241m=\u001b[39mX\u001b[38;5;241m.\u001b[39mshape[\u001b[38;5;241m1\u001b[39m]\n\u001b[0;32m   3309\u001b[0m         )\n\u001b[0;32m   3310\u001b[0m     )\n",
      "\u001b[1;31mValueError\u001b[0m: The Box-Cox transformation can only be applied to strictly positive data"
     ]
    }
   ],
   "source": [
    "pt=PowerTransformer(method=\"box-cox\") ##default method 'yeo-johnson'\n",
    "tt=pt.fit_transform(df)  ##expected 2-D array\n",
    "print(tt)"
   ]
  },
  {
   "cell_type": "markdown",
   "id": "80925add",
   "metadata": {},
   "source": [
    "### showing error because Box-Cox transform Can Only apply to positive data, will apply yeo-johnson"
   ]
  },
  {
   "cell_type": "code",
   "execution_count": 15,
   "id": "4969af5b",
   "metadata": {},
   "outputs": [
    {
     "name": "stdout",
     "output_type": "stream",
     "text": [
      "[[-0.83375176 -1.05619279]\n",
      " [-0.95493895 -1.76644342]\n",
      " [-0.6686181   0.20293709]\n",
      " [-0.61714957  0.42861634]\n",
      " [ 0.12934747 -0.65926863]\n",
      " [ 0.8054914   0.24744223]\n",
      " [-1.93699894 -0.95164213]\n",
      " [ 1.35714169  1.30665815]\n",
      " [ 1.11765006  0.80614584]\n",
      " [-0.83375176  1.41058993]\n",
      " [ 0.63677408 -0.01486908]\n",
      " [ 1.31053887  1.20400489]\n",
      " [ 0.48826551 -1.15797842]]\n"
     ]
    }
   ],
   "source": [
    "pt=PowerTransformer() ##default method 'yeo-johnson'\n",
    "tt=pt.fit_transform(df)  ##expected 2-D array\n",
    "print(tt)"
   ]
  },
  {
   "cell_type": "markdown",
   "id": "b9c5841a",
   "metadata": {},
   "source": [
    "### Standard Normal Distribution"
   ]
  },
  {
   "cell_type": "markdown",
   "id": "43143198",
   "metadata": {},
   "source": [
    "It is the special case of normal distribution or it is extracted from normal distribution whose mean approx equal to 0 and standard deviation approx equal to 1."
   ]
  },
  {
   "cell_type": "markdown",
   "id": "1a707d2c",
   "metadata": {},
   "source": [
    "- this tranforming concept is called scaling"
   ]
  },
  {
   "cell_type": "markdown",
   "id": "82c6583c",
   "metadata": {},
   "source": [
    "## Scaling"
   ]
  },
  {
   "cell_type": "code",
   "execution_count": 16,
   "id": "69c8d004",
   "metadata": {},
   "outputs": [],
   "source": [
    "n=np.random.normal(loc=30,scale=5,size=10000)"
   ]
  },
  {
   "cell_type": "code",
   "execution_count": 17,
   "id": "b71d454e",
   "metadata": {},
   "outputs": [],
   "source": [
    "z=[]\n",
    "for x in n:\n",
    "    z.append((x-30)/5)"
   ]
  },
  {
   "cell_type": "code",
   "execution_count": 18,
   "id": "8915d960",
   "metadata": {},
   "outputs": [
    {
     "data": {
      "text/plain": [
       "-0.014800905406053803"
      ]
     },
     "execution_count": 18,
     "metadata": {},
     "output_type": "execute_result"
    }
   ],
   "source": [
    "np.mean(z) ## close to 0 using standard normal dist/z-score"
   ]
  },
  {
   "cell_type": "code",
   "execution_count": 19,
   "id": "1cf9ee37",
   "metadata": {},
   "outputs": [
    {
     "data": {
      "text/plain": [
       "0.9935595067279754"
      ]
     },
     "execution_count": 19,
     "metadata": {},
     "output_type": "execute_result"
    }
   ],
   "source": [
    "np.std(z)"
   ]
  },
  {
   "cell_type": "code",
   "execution_count": 20,
   "id": "47072a7b",
   "metadata": {},
   "outputs": [],
   "source": [
    "import seaborn as sns"
   ]
  },
  {
   "cell_type": "code",
   "execution_count": 21,
   "id": "a82a10f4",
   "metadata": {},
   "outputs": [
    {
     "name": "stderr",
     "output_type": "stream",
     "text": [
      "C:\\Users\\rupan\\anaconda3\\lib\\site-packages\\seaborn\\distributions.py:2619: FutureWarning: `distplot` is a deprecated function and will be removed in a future version. Please adapt your code to use either `displot` (a figure-level function with similar flexibility) or `histplot` (an axes-level function for histograms).\n",
      "  warnings.warn(msg, FutureWarning)\n"
     ]
    },
    {
     "data": {
      "image/png": "[encoded data removed]",
      "text/plain": [
       "<Figure size 432x288 with 1 Axes>"
      ]
     },
     "metadata": {
      "needs_background": "light"
     },
     "output_type": "display_data"
    }
   ],
   "source": [
    "sns.distplot(z);"
   ]
  },
  {
   "cell_type": "markdown",
   "id": "3fd8f18b",
   "metadata": {},
   "source": [
    "- Why we need z-score?"
   ]
  },
  {
   "cell_type": "markdown",
   "id": "091ae5a1",
   "metadata": {},
   "source": [
    "1. scaling\n",
    "2. it tells how far my data point away from mean\n",
    "3. helps us to find probability\n",
    "4. helps us to compare the performance with peer group(like in percentile) in same distribution\n",
    "5. helps us in comparing the performance in different distribution"
   ]
  },
  {
   "cell_type": "markdown",
   "id": "dc6fc219",
   "metadata": {},
   "source": [
    "why we need scaling?\n",
    "\n",
    "    - from general point of view\n",
    "    \n",
    "        . to make the same scale \n",
    "        \n",
    "    - from ML POV:\n",
    "    \n",
    "        we will scale the data, so that both magnitudes are same and machine will organize pattern from both POV"
   ]
  },
  {
   "cell_type": "markdown",
   "id": "9f9b2deb",
   "metadata": {},
   "source": [
    "- If data is not normally distributed then z-score will not apply, for that we have Min-Max scalar"
   ]
  },
  {
   "cell_type": "markdown",
   "id": "a804a2e6",
   "metadata": {},
   "source": [
    "#### Min-Max Scalar"
   ]
  },
  {
   "cell_type": "code",
   "execution_count": 22,
   "id": "e57280ac",
   "metadata": {},
   "outputs": [],
   "source": [
    " l=[150,155,169,170,123,145,146,154,189,165,123,179,167,110,200,200,320,300]"
   ]
  },
  {
   "cell_type": "code",
   "execution_count": 23,
   "id": "f8cbc6d7",
   "metadata": {},
   "outputs": [
    {
     "data": {
      "text/plain": [
       "175.83333333333334"
      ]
     },
     "execution_count": 23,
     "metadata": {},
     "output_type": "execute_result"
    }
   ],
   "source": [
    "np.mean(l)"
   ]
  },
  {
   "cell_type": "code",
   "execution_count": 24,
   "id": "66744850",
   "metadata": {},
   "outputs": [
    {
     "data": {
      "text/plain": [
       "53.31484054390693"
      ]
     },
     "execution_count": 24,
     "metadata": {},
     "output_type": "execute_result"
    }
   ],
   "source": [
    "np.std(l)"
   ]
  },
  {
   "cell_type": "code",
   "execution_count": 25,
   "id": "f6856a4c",
   "metadata": {},
   "outputs": [
    {
     "data": {
      "text/plain": [
       "1.5638517709030868"
      ]
     },
     "execution_count": 25,
     "metadata": {},
     "output_type": "execute_result"
    }
   ],
   "source": [
    "st.skew(l) ## not normally distributed that's why we applied min-max scaling"
   ]
  },
  {
   "cell_type": "code",
   "execution_count": 26,
   "id": "c6520848",
   "metadata": {},
   "outputs": [],
   "source": [
    "m=[]\n",
    "for i in l:\n",
    "    scale=(i-min(l))/(max(l)-min(l)) ##formula for min-max\n",
    "    m.append(scale)"
   ]
  },
  {
   "cell_type": "code",
   "execution_count": 27,
   "id": "ab3b03ab",
   "metadata": {},
   "outputs": [
    {
     "data": {
      "text/plain": [
       "[0.19047619047619047,\n",
       " 0.21428571428571427,\n",
       " 0.28095238095238095,\n",
       " 0.2857142857142857,\n",
       " 0.06190476190476191,\n",
       " 0.16666666666666666,\n",
       " 0.17142857142857143,\n",
       " 0.20952380952380953,\n",
       " 0.3761904761904762,\n",
       " 0.2619047619047619,\n",
       " 0.06190476190476191,\n",
       " 0.32857142857142857,\n",
       " 0.2714285714285714,\n",
       " 0.0,\n",
       " 0.42857142857142855,\n",
       " 0.42857142857142855,\n",
       " 1.0,\n",
       " 0.9047619047619048]"
      ]
     },
     "execution_count": 27,
     "metadata": {},
     "output_type": "execute_result"
    }
   ],
   "source": [
    "m"
   ]
  },
  {
   "cell_type": "markdown",
   "id": "c96c7473",
   "metadata": {},
   "source": [
    "- How far 165 from the mean?\n",
    "        \n",
    "    - Z-score will tell us that`: 165-175/53.3"
   ]
  },
  {
   "cell_type": "code",
   "execution_count": 28,
   "id": "510be9db",
   "metadata": {},
   "outputs": [
    {
     "data": {
      "text/plain": [
       "-0.1876172607879925"
      ]
     },
     "execution_count": 28,
     "metadata": {},
     "output_type": "execute_result"
    }
   ],
   "source": [
    "-10/53.3"
   ]
  },
  {
   "cell_type": "markdown",
   "id": "bac52925",
   "metadata": {},
   "source": [
    "if z-score value is -ve that means that data point is on left side from the mean and if +ve then on right side"
   ]
  },
  {
   "cell_type": "markdown",
   "id": "09384a86",
   "metadata": {},
   "source": [
    "- 165 is -0.1876172607879925 standard deviation from mean"
   ]
  },
  {
   "cell_type": "markdown",
   "id": "c428ac16",
   "metadata": {},
   "source": [
    "- to find how much deviated from mean, we will find z-score"
   ]
  },
  {
   "cell_type": "code",
   "execution_count": 29,
   "id": "4410aea4",
   "metadata": {},
   "outputs": [],
   "source": [
    "a=[150,151,152,153,152,150,153,153,160,163]"
   ]
  },
  {
   "cell_type": "code",
   "execution_count": 30,
   "id": "04991a16",
   "metadata": {},
   "outputs": [
    {
     "data": {
      "text/plain": [
       "[150, 151, 152, 153, 152, 150, 153, 153, 160, 163]"
      ]
     },
     "execution_count": 30,
     "metadata": {},
     "output_type": "execute_result"
    }
   ],
   "source": [
    "a"
   ]
  },
  {
   "cell_type": "code",
   "execution_count": 31,
   "id": "e72e0f5e",
   "metadata": {},
   "outputs": [
    {
     "data": {
      "text/plain": [
       "4.1"
      ]
     },
     "execution_count": 31,
     "metadata": {},
     "output_type": "execute_result"
    }
   ],
   "source": [
    "np.std(a)"
   ]
  },
  {
   "cell_type": "code",
   "execution_count": 32,
   "id": "2437a07f",
   "metadata": {},
   "outputs": [
    {
     "data": {
      "text/plain": [
       "153.7"
      ]
     },
     "execution_count": 32,
     "metadata": {},
     "output_type": "execute_result"
    }
   ],
   "source": [
    "np.mean(a)"
   ]
  },
  {
   "cell_type": "markdown",
   "id": "aa197d66",
   "metadata": {},
   "source": [
    "### how far 152 from mean in sd?"
   ]
  },
  {
   "cell_type": "code",
   "execution_count": 33,
   "id": "d2c9fed6",
   "metadata": {},
   "outputs": [
    {
     "data": {
      "text/plain": [
       "-0.4146341463414607"
      ]
     },
     "execution_count": 33,
     "metadata": {},
     "output_type": "execute_result"
    }
   ],
   "source": [
    "(152-153.7)/4.1"
   ]
  },
  {
   "cell_type": "markdown",
   "id": "de3b28c3",
   "metadata": {},
   "source": [
    "- normal distribution is called continuous probability distribution"
   ]
  },
  {
   "cell_type": "markdown",
   "id": "ec44aead",
   "metadata": {},
   "source": [
    "#### suppose we have an population of 60 year old men. the mean bmi is 29 and sd is 6 . if a man is randomly selected then what is the probabilty  that his bmi will be less than 30"
   ]
  },
  {
   "cell_type": "code",
   "execution_count": 34,
   "id": "d11a14f3",
   "metadata": {},
   "outputs": [
    {
     "data": {
      "text/plain": [
       "0.16666666666666666"
      ]
     },
     "execution_count": 34,
     "metadata": {},
     "output_type": "execute_result"
    }
   ],
   "source": [
    "z=(30-29)/6\n",
    "z\n",
    "## means bmi of 30 is 0.16 sd from the mean"
   ]
  },
  {
   "cell_type": "markdown",
   "id": "5b3c4d46",
   "metadata": {},
   "source": [
    "#### find probabilities using z-score"
   ]
  },
  {
   "cell_type": "markdown",
   "id": "a65db135",
   "metadata": {},
   "source": [
    "its p value is 0.567 using z-table which is valid as 0.16 is little greater than 0 in z-score distribution as we expect probability which is light greater than 0.5"
   ]
  },
  {
   "cell_type": "markdown",
   "id": "d8ee5a99",
   "metadata": {},
   "source": [
    "100 - 56 = 44%\n",
    "\n",
    "56% are people whose bmi is less than 30\n",
    "\n",
    "44% are people whose bmi is greater than or equal to 30"
   ]
  },
  {
   "cell_type": "markdown",
   "id": "56d6f464",
   "metadata": {},
   "source": [
    "## 02/01/23"
   ]
  },
  {
   "cell_type": "markdown",
   "id": "98ec078c",
   "metadata": {},
   "source": [
    "#### suppose the scores on a certain college entrance exam are roughly normally distributed with a mean of 82 and a standard deviation of 5.If a certain student received a 90 on the exam. how well he performed in the exam relatively with respect to others. and also tell whether u r in top% or not"
   ]
  },
  {
   "cell_type": "code",
   "execution_count": null,
   "id": "c1db3887",
   "metadata": {},
   "outputs": [],
   "source": []
  },
  {
   "cell_type": "markdown",
   "id": "5461e913",
   "metadata": {},
   "source": [
    "### z-score to detect outliers"
   ]
  },
  {
   "cell_type": "code",
   "execution_count": null,
   "id": "4f54df99",
   "metadata": {},
   "outputs": [],
   "source": []
  }
 ],
 "metadata": {
  "kernelspec": {
   "display_name": "Python 3 (ipykernel)",
   "language": "python",
   "name": "python3"
  },
  "language_info": {
   "codemirror_mode": {
    "name": "ipython",
    "version": 3
   },
   "file_extension": ".py",
   "mimetype": "text/x-python",
   "name": "python",
   "nbconvert_exporter": "python",
   "pygments_lexer": "ipython3",
   "version": "3.9.12"
  }
 },
 "nbformat": 4,
 "nbformat_minor": 5
}
